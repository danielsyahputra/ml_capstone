{
  "nbformat": 4,
  "nbformat_minor": 0,
  "metadata": {
    "colab": {
      "name": "Copy of Modelling",
      "provenance": [],
      "collapsed_sections": [],
      "include_colab_link": true
    },
    "kernelspec": {
      "name": "python3",
      "display_name": "Python 3"
    },
    "language_info": {
      "name": "python"
    }
  },
  "cells": [
    {
      "cell_type": "markdown",
      "metadata": {
        "id": "view-in-github",
        "colab_type": "text"
      },
      "source": [
        "<a href=\"https://colab.research.google.com/github/danielsyahputra13/ml_capstone/blob/master/notebooks/Copy_of_Modelling.ipynb\" target=\"_parent\"><img src=\"https://colab.research.google.com/assets/colab-badge.svg\" alt=\"Open In Colab\"/></a>"
      ]
    },
    {
      "cell_type": "code",
      "execution_count": null,
      "metadata": {
        "id": "vFhaDo-OUn6i",
        "colab": {
          "base_uri": "https://localhost:8080/"
        },
        "outputId": "e5bd4bdb-2f7d-4f90-db54-1fced901eed5"
      },
      "outputs": [
        {
          "output_type": "stream",
          "name": "stdout",
          "text": [
            "[nltk_data] Downloading package punkt to /root/nltk_data...\n",
            "[nltk_data]   Unzipping tokenizers/punkt.zip.\n"
          ]
        },
        {
          "output_type": "execute_result",
          "data": {
            "text/plain": [
              "True"
            ]
          },
          "metadata": {},
          "execution_count": 1
        }
      ],
      "source": [
        "import pandas as pd\n",
        "import nltk\n",
        "nltk.download('punkt')"
      ]
    },
    {
      "cell_type": "code",
      "source": [
        "import tensorflow as tf\n",
        "import numpy as np\n",
        "from tensorflow.keras.preprocessing.text import Tokenizer\n",
        "from tensorflow.keras.preprocessing.sequence import pad_sequences"
      ],
      "metadata": {
        "id": "QoJzFQnKyjLP"
      },
      "execution_count": null,
      "outputs": []
    },
    {
      "cell_type": "code",
      "source": [
        "from google.colab import drive\n",
        "drive.mount('/content/drive')"
      ],
      "metadata": {
        "colab": {
          "base_uri": "https://localhost:8080/"
        },
        "id": "naQqS9XOUwCT",
        "outputId": "ccad5b34-9587-4911-bda7-093e3aed60de"
      },
      "execution_count": null,
      "outputs": [
        {
          "output_type": "stream",
          "name": "stdout",
          "text": [
            "Mounted at /content/drive\n"
          ]
        }
      ]
    },
    {
      "cell_type": "code",
      "source": [
        "data = pd.read_csv(\"/content/drive/Shareddrives/ML-Capstone/dataset/train.csv\")\n",
        "test = pd.read_csv(\"/content/drive/Shareddrives/ML-Capstone/dataset/test.csv\")"
      ],
      "metadata": {
        "id": "CLFw4O26UyK-"
      },
      "execution_count": null,
      "outputs": []
    },
    {
      "cell_type": "code",
      "source": [
        "data.head()"
      ],
      "metadata": {
        "colab": {
          "base_uri": "https://localhost:8080/",
          "height": 337
        },
        "id": "MQQHSisaVDCD",
        "outputId": "27110e3d-e3e4-4908-b356-e96d52fbb8b0"
      },
      "execution_count": null,
      "outputs": [
        {
          "output_type": "execute_result",
          "data": {
            "text/plain": [
              "                   drugName                     condition  \\\n",
              "0                 Valsartan  Left Ventricular Dysfunction   \n",
              "1                Guanfacine                          ADHD   \n",
              "2                    Lybrel                 Birth Control   \n",
              "3                Ortho Evra                 Birth Control   \n",
              "4  Buprenorphine / naloxone             Opiate Dependence   \n",
              "\n",
              "                                              review  rating  \\\n",
              "0  \"It has no side effect, I take it in combinati...     9.0   \n",
              "1  \"My son is halfway through his fourth week of ...     8.0   \n",
              "2  \"I used to take another oral contraceptive, wh...     5.0   \n",
              "3  \"This is my first time using any form of birth...     8.0   \n",
              "4  \"Suboxone has completely turned my life around...     9.0   \n",
              "\n",
              "                date  usefulCount  \\\n",
              "0       May 20, 2012           27   \n",
              "1     April 27, 2010          192   \n",
              "2  December 14, 2009           17   \n",
              "3   November 3, 2015           10   \n",
              "4  November 27, 2016           37   \n",
              "\n",
              "                                        clean_review  \n",
              "0                   effect combin bystol mg fish oil  \n",
              "1  son halfway fourth week intuniv concern began ...  \n",
              "2  oral contracept pill cycl happi light period m...  \n",
              "3  time form birth control m glad went patch mont...  \n",
              "4  suboxon complet turn life feel healthier m exc...  "
            ],
            "text/html": [
              "\n",
              "  <div id=\"df-16e35970-92a3-497e-bb36-ca6ccc4de043\">\n",
              "    <div class=\"colab-df-container\">\n",
              "      <div>\n",
              "<style scoped>\n",
              "    .dataframe tbody tr th:only-of-type {\n",
              "        vertical-align: middle;\n",
              "    }\n",
              "\n",
              "    .dataframe tbody tr th {\n",
              "        vertical-align: top;\n",
              "    }\n",
              "\n",
              "    .dataframe thead th {\n",
              "        text-align: right;\n",
              "    }\n",
              "</style>\n",
              "<table border=\"1\" class=\"dataframe\">\n",
              "  <thead>\n",
              "    <tr style=\"text-align: right;\">\n",
              "      <th></th>\n",
              "      <th>drugName</th>\n",
              "      <th>condition</th>\n",
              "      <th>review</th>\n",
              "      <th>rating</th>\n",
              "      <th>date</th>\n",
              "      <th>usefulCount</th>\n",
              "      <th>clean_review</th>\n",
              "    </tr>\n",
              "  </thead>\n",
              "  <tbody>\n",
              "    <tr>\n",
              "      <th>0</th>\n",
              "      <td>Valsartan</td>\n",
              "      <td>Left Ventricular Dysfunction</td>\n",
              "      <td>\"It has no side effect, I take it in combinati...</td>\n",
              "      <td>9.0</td>\n",
              "      <td>May 20, 2012</td>\n",
              "      <td>27</td>\n",
              "      <td>effect combin bystol mg fish oil</td>\n",
              "    </tr>\n",
              "    <tr>\n",
              "      <th>1</th>\n",
              "      <td>Guanfacine</td>\n",
              "      <td>ADHD</td>\n",
              "      <td>\"My son is halfway through his fourth week of ...</td>\n",
              "      <td>8.0</td>\n",
              "      <td>April 27, 2010</td>\n",
              "      <td>192</td>\n",
              "      <td>son halfway fourth week intuniv concern began ...</td>\n",
              "    </tr>\n",
              "    <tr>\n",
              "      <th>2</th>\n",
              "      <td>Lybrel</td>\n",
              "      <td>Birth Control</td>\n",
              "      <td>\"I used to take another oral contraceptive, wh...</td>\n",
              "      <td>5.0</td>\n",
              "      <td>December 14, 2009</td>\n",
              "      <td>17</td>\n",
              "      <td>oral contracept pill cycl happi light period m...</td>\n",
              "    </tr>\n",
              "    <tr>\n",
              "      <th>3</th>\n",
              "      <td>Ortho Evra</td>\n",
              "      <td>Birth Control</td>\n",
              "      <td>\"This is my first time using any form of birth...</td>\n",
              "      <td>8.0</td>\n",
              "      <td>November 3, 2015</td>\n",
              "      <td>10</td>\n",
              "      <td>time form birth control m glad went patch mont...</td>\n",
              "    </tr>\n",
              "    <tr>\n",
              "      <th>4</th>\n",
              "      <td>Buprenorphine / naloxone</td>\n",
              "      <td>Opiate Dependence</td>\n",
              "      <td>\"Suboxone has completely turned my life around...</td>\n",
              "      <td>9.0</td>\n",
              "      <td>November 27, 2016</td>\n",
              "      <td>37</td>\n",
              "      <td>suboxon complet turn life feel healthier m exc...</td>\n",
              "    </tr>\n",
              "  </tbody>\n",
              "</table>\n",
              "</div>\n",
              "      <button class=\"colab-df-convert\" onclick=\"convertToInteractive('df-16e35970-92a3-497e-bb36-ca6ccc4de043')\"\n",
              "              title=\"Convert this dataframe to an interactive table.\"\n",
              "              style=\"display:none;\">\n",
              "        \n",
              "  <svg xmlns=\"http://www.w3.org/2000/svg\" height=\"24px\"viewBox=\"0 0 24 24\"\n",
              "       width=\"24px\">\n",
              "    <path d=\"M0 0h24v24H0V0z\" fill=\"none\"/>\n",
              "    <path d=\"M18.56 5.44l.94 2.06.94-2.06 2.06-.94-2.06-.94-.94-2.06-.94 2.06-2.06.94zm-11 1L8.5 8.5l.94-2.06 2.06-.94-2.06-.94L8.5 2.5l-.94 2.06-2.06.94zm10 10l.94 2.06.94-2.06 2.06-.94-2.06-.94-.94-2.06-.94 2.06-2.06.94z\"/><path d=\"M17.41 7.96l-1.37-1.37c-.4-.4-.92-.59-1.43-.59-.52 0-1.04.2-1.43.59L10.3 9.45l-7.72 7.72c-.78.78-.78 2.05 0 2.83L4 21.41c.39.39.9.59 1.41.59.51 0 1.02-.2 1.41-.59l7.78-7.78 2.81-2.81c.8-.78.8-2.07 0-2.86zM5.41 20L4 18.59l7.72-7.72 1.47 1.35L5.41 20z\"/>\n",
              "  </svg>\n",
              "      </button>\n",
              "      \n",
              "  <style>\n",
              "    .colab-df-container {\n",
              "      display:flex;\n",
              "      flex-wrap:wrap;\n",
              "      gap: 12px;\n",
              "    }\n",
              "\n",
              "    .colab-df-convert {\n",
              "      background-color: #E8F0FE;\n",
              "      border: none;\n",
              "      border-radius: 50%;\n",
              "      cursor: pointer;\n",
              "      display: none;\n",
              "      fill: #1967D2;\n",
              "      height: 32px;\n",
              "      padding: 0 0 0 0;\n",
              "      width: 32px;\n",
              "    }\n",
              "\n",
              "    .colab-df-convert:hover {\n",
              "      background-color: #E2EBFA;\n",
              "      box-shadow: 0px 1px 2px rgba(60, 64, 67, 0.3), 0px 1px 3px 1px rgba(60, 64, 67, 0.15);\n",
              "      fill: #174EA6;\n",
              "    }\n",
              "\n",
              "    [theme=dark] .colab-df-convert {\n",
              "      background-color: #3B4455;\n",
              "      fill: #D2E3FC;\n",
              "    }\n",
              "\n",
              "    [theme=dark] .colab-df-convert:hover {\n",
              "      background-color: #434B5C;\n",
              "      box-shadow: 0px 1px 3px 1px rgba(0, 0, 0, 0.15);\n",
              "      filter: drop-shadow(0px 1px 2px rgba(0, 0, 0, 0.3));\n",
              "      fill: #FFFFFF;\n",
              "    }\n",
              "  </style>\n",
              "\n",
              "      <script>\n",
              "        const buttonEl =\n",
              "          document.querySelector('#df-16e35970-92a3-497e-bb36-ca6ccc4de043 button.colab-df-convert');\n",
              "        buttonEl.style.display =\n",
              "          google.colab.kernel.accessAllowed ? 'block' : 'none';\n",
              "\n",
              "        async function convertToInteractive(key) {\n",
              "          const element = document.querySelector('#df-16e35970-92a3-497e-bb36-ca6ccc4de043');\n",
              "          const dataTable =\n",
              "            await google.colab.kernel.invokeFunction('convertToInteractive',\n",
              "                                                     [key], {});\n",
              "          if (!dataTable) return;\n",
              "\n",
              "          const docLinkHtml = 'Like what you see? Visit the ' +\n",
              "            '<a target=\"_blank\" href=https://colab.research.google.com/notebooks/data_table.ipynb>data table notebook</a>'\n",
              "            + ' to learn more about interactive tables.';\n",
              "          element.innerHTML = '';\n",
              "          dataTable['output_type'] = 'display_data';\n",
              "          await google.colab.output.renderOutput(dataTable, element);\n",
              "          const docLink = document.createElement('div');\n",
              "          docLink.innerHTML = docLinkHtml;\n",
              "          element.appendChild(docLink);\n",
              "        }\n",
              "      </script>\n",
              "    </div>\n",
              "  </div>\n",
              "  "
            ]
          },
          "metadata": {},
          "execution_count": 5
        }
      ]
    },
    {
      "cell_type": "code",
      "source": [
        "data.info()"
      ],
      "metadata": {
        "colab": {
          "base_uri": "https://localhost:8080/"
        },
        "id": "koJ-Ncx6VDuS",
        "outputId": "5661405a-70b7-4d42-df19-59cf640a4e13"
      },
      "execution_count": null,
      "outputs": [
        {
          "output_type": "stream",
          "name": "stdout",
          "text": [
            "<class 'pandas.core.frame.DataFrame'>\n",
            "RangeIndex: 160383 entries, 0 to 160382\n",
            "Data columns (total 7 columns):\n",
            " #   Column        Non-Null Count   Dtype  \n",
            "---  ------        --------------   -----  \n",
            " 0   drugName      160383 non-null  object \n",
            " 1   condition     160383 non-null  object \n",
            " 2   review        160383 non-null  object \n",
            " 3   rating        160383 non-null  float64\n",
            " 4   date          160383 non-null  object \n",
            " 5   usefulCount   160383 non-null  int64  \n",
            " 6   clean_review  160383 non-null  object \n",
            "dtypes: float64(1), int64(1), object(5)\n",
            "memory usage: 8.6+ MB\n"
          ]
        }
      ]
    },
    {
      "cell_type": "code",
      "source": [
        "# data['num_of_words'] = data['clean_review'].apply(lambda x: len(nltk.word_tokenize(x)))"
      ],
      "metadata": {
        "id": "CfaywPt5qGGu"
      },
      "execution_count": null,
      "outputs": []
    },
    {
      "cell_type": "code",
      "source": [
        "# data['num_of_words'].describe()"
      ],
      "metadata": {
        "id": "N-znjEGIqqtb"
      },
      "execution_count": null,
      "outputs": []
    },
    {
      "cell_type": "code",
      "source": [
        "data  = data[data['condition'] != 'me']\n",
        "data = data[data['condition'] != 'mist (']"
      ],
      "metadata": {
        "id": "2twXfApG3nmc"
      },
      "execution_count": null,
      "outputs": []
    },
    {
      "cell_type": "code",
      "source": [
        "data = data[~data['condition'].str.contains('</span>')]"
      ],
      "metadata": {
        "id": "U8NOTDXm4i1A"
      },
      "execution_count": null,
      "outputs": []
    },
    {
      "cell_type": "code",
      "source": [
        "test  = test[test['condition'] != 'me']\n",
        "test = test[test['condition'] != 'mist (']\n",
        "test = test[~test['condition'].str.contains('</span>')]"
      ],
      "metadata": {
        "id": "QqDs0-SE4wWQ"
      },
      "execution_count": null,
      "outputs": []
    },
    {
      "cell_type": "code",
      "source": [
        "test = test[test['condition'].isin(data['condition'])]"
      ],
      "metadata": {
        "id": "VhkLDLjxCsqu"
      },
      "execution_count": null,
      "outputs": []
    },
    {
      "cell_type": "markdown",
      "source": [
        "# Model\n"
      ],
      "metadata": {
        "id": "G7XNtwyrrLqc"
      }
    },
    {
      "cell_type": "code",
      "source": [
        "vocab_size = 5000\n",
        "embedding_dim = 64\n",
        "max_length = 100\n",
        "trunc_type = 'post'\n",
        "padding_type = 'post'\n",
        "oov_tok = '<OOV>'\n",
        "training_portion = .8"
      ],
      "metadata": {
        "id": "kg31QFNQrfPU"
      },
      "execution_count": null,
      "outputs": []
    },
    {
      "cell_type": "markdown",
      "source": [
        "Split data train vs val"
      ],
      "metadata": {
        "id": "AZK7T-ArsI1h"
      }
    },
    {
      "cell_type": "code",
      "source": [
        "# from sklearn.model_selection import train_test_split\n",
        "\n",
        "# train, val = train_test_split(data, test_size=0.2)\n",
        "train = data.copy()\n",
        "test = test.copy()"
      ],
      "metadata": {
        "id": "G44EywWmrrr4"
      },
      "execution_count": null,
      "outputs": []
    },
    {
      "cell_type": "code",
      "source": [
        "print(\"Train size:\", len(train))"
      ],
      "metadata": {
        "colab": {
          "base_uri": "https://localhost:8080/"
        },
        "id": "3bK2TOkiruha",
        "outputId": "3c8c0bc6-b23b-4d2b-b6cb-b808b6a04336"
      },
      "execution_count": null,
      "outputs": [
        {
          "output_type": "stream",
          "name": "stdout",
          "text": [
            "Train size: 159481\n"
          ]
        }
      ]
    },
    {
      "cell_type": "code",
      "source": [
        "print(\"Testing size:\", len(test))"
      ],
      "metadata": {
        "colab": {
          "base_uri": "https://localhost:8080/"
        },
        "id": "S1X-fKY5r1kq",
        "outputId": "b43d258e-8604-4d92-f237-291e35844321"
      },
      "execution_count": null,
      "outputs": [
        {
          "output_type": "stream",
          "name": "stdout",
          "text": [
            "Testing size: 53156\n"
          ]
        }
      ]
    },
    {
      "cell_type": "code",
      "source": [
        "train_reviews = train['clean_review'].tolist()\n",
        "test_reviews = test['clean_review'].tolist()"
      ],
      "metadata": {
        "id": "yJTuqjRFtQqN"
      },
      "execution_count": null,
      "outputs": []
    },
    {
      "cell_type": "markdown",
      "source": [
        "## Transformasi data train"
      ],
      "metadata": {
        "id": "Mj1_zpaouQqA"
      }
    },
    {
      "cell_type": "code",
      "source": [
        "tokenizer = Tokenizer(num_words = vocab_size, oov_token=oov_tok)\n",
        "tokenizer.fit_on_texts(train_reviews)\n",
        "word_index = tokenizer.word_index\n",
        "dict(list(word_index.items())[0:10])"
      ],
      "metadata": {
        "colab": {
          "base_uri": "https://localhost:8080/"
        },
        "id": "Mc4t342Zsxzb",
        "outputId": "8b3fd07d-d1b5-4d92-c4d4-9cb87bb2060f"
      },
      "execution_count": null,
      "outputs": [
        {
          "output_type": "execute_result",
          "data": {
            "text/plain": [
              "{'<OOV>': 1,\n",
              " 'day': 3,\n",
              " 'effect': 6,\n",
              " 'm': 10,\n",
              " 'month': 4,\n",
              " 'start': 9,\n",
              " 't': 2,\n",
              " 'week': 8,\n",
              " 'work': 7,\n",
              " 'year': 5}"
            ]
          },
          "metadata": {},
          "execution_count": 18
        }
      ]
    },
    {
      "cell_type": "code",
      "source": [
        "train_sequences = tokenizer.texts_to_sequences(train_reviews)\n",
        "print(train_sequences[10])"
      ],
      "metadata": {
        "colab": {
          "base_uri": "https://localhost:8080/"
        },
        "id": "U-tQtH9Vto_L",
        "outputId": "b1cd987d-364c-4b02-8dff-3432005cd730"
      },
      "execution_count": null,
      "outputs": [
        {
          "output_type": "stream",
          "name": "stdout",
          "text": [
            "[23, 8, 9, 17, 7, 125, 17, 362, 17, 60, 79, 49, 1496, 110, 8, 89, 85, 79, 889, 365, 525, 1290, 73, 68, 26, 179, 26, 165, 6, 63, 22, 6, 974, 1708, 124, 966, 645, 124, 146, 578, 1809, 14, 3758, 10, 122, 960, 44, 1817, 387, 891, 212, 46, 70]\n"
          ]
        }
      ]
    },
    {
      "cell_type": "code",
      "source": [
        "train_padded = pad_sequences(train_sequences, maxlen=max_length, padding=padding_type, truncating=trunc_type)\n",
        "print(len(train_sequences[0]))\n",
        "print(len(train_padded[0]))\n",
        "\n",
        "print(len(train_sequences[1]))\n",
        "print(len(train_padded[1]))\n",
        "\n",
        "print(len(train_sequences[10]))\n",
        "print(len(train_padded[10]))"
      ],
      "metadata": {
        "colab": {
          "base_uri": "https://localhost:8080/"
        },
        "id": "6kJjMiXBtzHG",
        "outputId": "c4647a69-2074-4d3a-857a-b66109320435"
      },
      "execution_count": null,
      "outputs": [
        {
          "output_type": "stream",
          "name": "stdout",
          "text": [
            "6\n",
            "100\n",
            "52\n",
            "100\n",
            "53\n",
            "100\n"
          ]
        }
      ]
    },
    {
      "cell_type": "markdown",
      "source": [
        "## Transformasi data validation"
      ],
      "metadata": {
        "id": "rfXmGCMWuUNO"
      }
    },
    {
      "cell_type": "code",
      "source": [
        "test_sequences = tokenizer.texts_to_sequences(test_reviews)\n",
        "test_padded = pad_sequences(test_sequences, maxlen=max_length, padding=padding_type, truncating=trunc_type)\n",
        "\n",
        "print(len(test_sequences))\n",
        "print(test_padded.shape)"
      ],
      "metadata": {
        "colab": {
          "base_uri": "https://localhost:8080/"
        },
        "id": "n3UCzZqGuCO3",
        "outputId": "89a3e6c4-169c-4e95-880e-35ecb41db72b"
      },
      "execution_count": null,
      "outputs": [
        {
          "output_type": "stream",
          "name": "stdout",
          "text": [
            "53156\n",
            "(53156, 100)\n"
          ]
        }
      ]
    },
    {
      "cell_type": "markdown",
      "source": [
        "## Extract Label"
      ],
      "metadata": {
        "id": "n_xw_t05x3CF"
      }
    },
    {
      "cell_type": "code",
      "source": [
        "from sklearn.preprocessing import LabelEncoder\n",
        "\n",
        "encoder = LabelEncoder()"
      ],
      "metadata": {
        "id": "07L-2lNV0VK_"
      },
      "execution_count": null,
      "outputs": []
    },
    {
      "cell_type": "code",
      "source": [
        "label_train = train['condition'].values\n",
        "label_train"
      ],
      "metadata": {
        "colab": {
          "base_uri": "https://localhost:8080/"
        },
        "id": "-y3_mzxfxwIF",
        "outputId": "be72e155-411b-48f7-d9db-ccf4e84ce59d"
      },
      "execution_count": null,
      "outputs": [
        {
          "output_type": "execute_result",
          "data": {
            "text/plain": [
              "array(['Left Ventricular Dysfunction', 'ADHD', 'Birth Control', ...,\n",
              "       'Rheumatoid Arthritis', 'Underactive Thyroid',\n",
              "       'Constipation, Chronic'], dtype=object)"
            ]
          },
          "metadata": {},
          "execution_count": 23
        }
      ]
    },
    {
      "cell_type": "code",
      "source": [
        "enc_label_train = encoder.fit_transform(label_train)\n",
        "enc_label_train"
      ],
      "metadata": {
        "colab": {
          "base_uri": "https://localhost:8080/"
        },
        "id": "ZZEA-SaU0oQL",
        "outputId": "87e5a93c-1942-4d1a-8f39-c0035d1373e8"
      },
      "execution_count": null,
      "outputs": [
        {
          "output_type": "execute_result",
          "data": {
            "text/plain": [
              "array([393,   0,  92, ..., 628, 738, 160])"
            ]
          },
          "metadata": {},
          "execution_count": 25
        }
      ]
    },
    {
      "cell_type": "code",
      "source": [
        "np.save('/content/drive/Shareddrives/ML-Capstone/classes.npy', encoder.classes_)"
      ],
      "metadata": {
        "id": "nXonigbL8NSm"
      },
      "execution_count": null,
      "outputs": []
    },
    {
      "cell_type": "code",
      "source": [
        "new_encoder = LabelEncoder()\n",
        "new_encoder.classes_ = np.load('/content/drive/Shareddrives/ML-Capstone/classes.npy', allow_pickle=True)"
      ],
      "metadata": {
        "id": "1gDaim9A9E_B"
      },
      "execution_count": null,
      "outputs": []
    },
    {
      "cell_type": "code",
      "source": [
        "encoder.inverse_transform([123])"
      ],
      "metadata": {
        "colab": {
          "base_uri": "https://localhost:8080/"
        },
        "id": "JMVrlM4v9kZV",
        "outputId": "5c4378be-9127-443a-b2c6-2343359c0fb9"
      },
      "execution_count": null,
      "outputs": [
        {
          "output_type": "execute_result",
          "data": {
            "text/plain": [
              "array(['Cance'], dtype=object)"
            ]
          },
          "metadata": {},
          "execution_count": 35
        }
      ]
    },
    {
      "cell_type": "code",
      "source": [
        "new_encoder.inverse_transform([123])"
      ],
      "metadata": {
        "colab": {
          "base_uri": "https://localhost:8080/"
        },
        "id": "k-ezuC9-9xdi",
        "outputId": "97e690c7-e807-4485-909c-d03c678c9243"
      },
      "execution_count": null,
      "outputs": [
        {
          "output_type": "execute_result",
          "data": {
            "text/plain": [
              "array(['Cance'], dtype=object)"
            ]
          },
          "metadata": {},
          "execution_count": 36
        }
      ]
    },
    {
      "cell_type": "code",
      "source": [
        "train['condition'].nunique()"
      ],
      "metadata": {
        "colab": {
          "base_uri": "https://localhost:8080/"
        },
        "id": "al-l5xFtyxgT",
        "outputId": "aa5ac5fb-38df-43b7-fcd5-6a6c87467125"
      },
      "execution_count": null,
      "outputs": [
        {
          "output_type": "execute_result",
          "data": {
            "text/plain": [
              "808"
            ]
          },
          "metadata": {},
          "execution_count": 58
        }
      ]
    },
    {
      "cell_type": "code",
      "source": [
        "label_test = test['condition'].values\n",
        "label_test"
      ],
      "metadata": {
        "colab": {
          "base_uri": "https://localhost:8080/"
        },
        "id": "iPzxCwCpx_B4",
        "outputId": "f414bcf5-94b0-4d48-8f75-d6276dc94966"
      },
      "execution_count": null,
      "outputs": [
        {
          "output_type": "execute_result",
          "data": {
            "text/plain": [
              "array(['Depression', \"Crohn's Disease, Maintenance\",\n",
              "       'Urinary Tract Infection', ..., 'Birth Control', 'Pain',\n",
              "       'Sciatica'], dtype=object)"
            ]
          },
          "metadata": {},
          "execution_count": 59
        }
      ]
    },
    {
      "cell_type": "code",
      "source": [
        "enc_label_test = encoder.transform(label_test)\n",
        "enc_label_test"
      ],
      "metadata": {
        "colab": {
          "base_uri": "https://localhost:8080/"
        },
        "id": "Rj-Z3FZ00zDl",
        "outputId": "729ec67c-7a4a-46f1-8a9f-a1b33d88aa39"
      },
      "execution_count": null,
      "outputs": [
        {
          "output_type": "execute_result",
          "data": {
            "text/plain": [
              "array([189, 169, 744, ...,  92, 521, 642])"
            ]
          },
          "metadata": {},
          "execution_count": 60
        }
      ]
    },
    {
      "cell_type": "code",
      "source": [
        "model = tf.keras.Sequential([\n",
        "    tf.keras.layers.Embedding(vocab_size, embedding_dim),\n",
        "    tf.keras.layers.Bidirectional(tf.keras.layers.LSTM(embedding_dim)),\n",
        "    tf.keras.layers.Dropout(0.3),\n",
        "    tf.keras.layers.Dense(32, activation='relu'),\n",
        "    tf.keras.layers.Dense(808, activation='softmax')\n",
        "])\n",
        "model.summary()"
      ],
      "metadata": {
        "colab": {
          "base_uri": "https://localhost:8080/"
        },
        "id": "2yBXeO4syTnk",
        "outputId": "89ed973b-f84c-4197-db70-ccba89d225c3"
      },
      "execution_count": null,
      "outputs": [
        {
          "output_type": "stream",
          "name": "stdout",
          "text": [
            "Model: \"sequential_3\"\n",
            "_________________________________________________________________\n",
            " Layer (type)                Output Shape              Param #   \n",
            "=================================================================\n",
            " embedding_3 (Embedding)     (None, None, 64)          320000    \n",
            "                                                                 \n",
            " bidirectional_3 (Bidirectio  (None, 128)              66048     \n",
            " nal)                                                            \n",
            "                                                                 \n",
            " dropout_3 (Dropout)         (None, 128)               0         \n",
            "                                                                 \n",
            " dense_6 (Dense)             (None, 32)                4128      \n",
            "                                                                 \n",
            " dense_7 (Dense)             (None, 808)               26664     \n",
            "                                                                 \n",
            "=================================================================\n",
            "Total params: 416,840\n",
            "Trainable params: 416,840\n",
            "Non-trainable params: 0\n",
            "_________________________________________________________________\n"
          ]
        }
      ]
    },
    {
      "cell_type": "code",
      "source": [
        "print(len(set(enc_label_train)))\n",
        "print(len(set(enc_label_test)))\n"
      ],
      "metadata": {
        "colab": {
          "base_uri": "https://localhost:8080/"
        },
        "id": "LPTjTj3pyC5p",
        "outputId": "b0aecaf8-14d5-4528-ecd5-286beb408b76"
      },
      "execution_count": null,
      "outputs": [
        {
          "output_type": "stream",
          "name": "stdout",
          "text": [
            "808\n",
            "637\n"
          ]
        }
      ]
    },
    {
      "cell_type": "code",
      "source": [
        "class myCallback(tf.keras.callbacks.Callback): \n",
        "    def on_epoch_end(self, epoch, logs={}): \n",
        "        if epoch >= 15:\n",
        "          if logs.get('val_acc') < 0.7: \n",
        "            print(\"\\nReached %2.2f%% accuracy, stopping training!!\" %(logs.get('val_acc')*100))   \n",
        "            self.model.stop_training = True\n",
        "          else:\n",
        "            pass\n",
        "\n",
        "callbacks = myCallback()"
      ],
      "metadata": {
        "id": "p7Y2543sHkm3"
      },
      "execution_count": null,
      "outputs": []
    },
    {
      "cell_type": "code",
      "source": [
        "model.compile(loss='sparse_categorical_crossentropy', optimizer='adam', metrics=['accuracy'])\n",
        "num_epochs = 30\n",
        "history = model.fit(train_padded,\n",
        "                    enc_label_train,\n",
        "                    epochs=num_epochs,\n",
        "                    validation_data=(test_padded, enc_label_test),\n",
        "                    verbose=1, \n",
        "                    batch_size=512)"
      ],
      "metadata": {
        "colab": {
          "base_uri": "https://localhost:8080/"
        },
        "id": "Lei2cqV5zMPa",
        "outputId": "9fda8e30-09c0-4f82-b959-5f9e042351b4"
      },
      "execution_count": null,
      "outputs": [
        {
          "output_type": "stream",
          "name": "stdout",
          "text": [
            "Epoch 1/30\n",
            "312/312 [==============================] - 316s 890ms/step - loss: 4.3600 - accuracy: 0.1915 - val_loss: 3.5728 - val_accuracy: 0.2597\n",
            "Epoch 2/30\n",
            "312/312 [==============================] - 276s 884ms/step - loss: 3.2066 - accuracy: 0.3147 - val_loss: 2.8347 - val_accuracy: 0.3866\n",
            "Epoch 3/30\n",
            "312/312 [==============================] - 273s 875ms/step - loss: 2.6589 - accuracy: 0.4234 - val_loss: 2.4184 - val_accuracy: 0.4775\n",
            "Epoch 4/30\n",
            "312/312 [==============================] - 275s 880ms/step - loss: 2.3029 - accuracy: 0.4945 - val_loss: 2.1564 - val_accuracy: 0.5321\n",
            "Epoch 5/30\n",
            "312/312 [==============================] - 277s 888ms/step - loss: 2.0558 - accuracy: 0.5423 - val_loss: 1.9538 - val_accuracy: 0.5705\n",
            "Epoch 6/30\n",
            "312/312 [==============================] - 276s 886ms/step - loss: 1.8695 - accuracy: 0.5789 - val_loss: 1.8194 - val_accuracy: 0.5989\n",
            "Epoch 7/30\n",
            "312/312 [==============================] - 272s 873ms/step - loss: 1.7291 - accuracy: 0.6049 - val_loss: 1.7069 - val_accuracy: 0.6215\n",
            "Epoch 8/30\n",
            "312/312 [==============================] - 272s 873ms/step - loss: 1.6242 - accuracy: 0.6242 - val_loss: 1.6446 - val_accuracy: 0.6307\n",
            "Epoch 9/30\n",
            "312/312 [==============================] - 272s 873ms/step - loss: 1.5447 - accuracy: 0.6393 - val_loss: 1.5874 - val_accuracy: 0.6428\n",
            "Epoch 10/30\n",
            "312/312 [==============================] - 273s 875ms/step - loss: 1.4811 - accuracy: 0.6505 - val_loss: 1.5478 - val_accuracy: 0.6471\n",
            "Epoch 11/30\n",
            "312/312 [==============================] - 273s 874ms/step - loss: 1.4243 - accuracy: 0.6594 - val_loss: 1.5209 - val_accuracy: 0.6547\n",
            "Epoch 12/30\n",
            "312/312 [==============================] - 273s 874ms/step - loss: 1.3786 - accuracy: 0.6684 - val_loss: 1.4976 - val_accuracy: 0.6568\n",
            "Epoch 13/30\n",
            "312/312 [==============================] - 271s 870ms/step - loss: 1.3359 - accuracy: 0.6752 - val_loss: 1.4837 - val_accuracy: 0.6576\n",
            "Epoch 14/30\n",
            "312/312 [==============================] - 270s 865ms/step - loss: 1.3003 - accuracy: 0.6808 - val_loss: 1.4688 - val_accuracy: 0.6648\n",
            "Epoch 15/30\n",
            "312/312 [==============================] - 270s 866ms/step - loss: 1.2681 - accuracy: 0.6877 - val_loss: 1.4555 - val_accuracy: 0.6666\n",
            "Epoch 16/30\n",
            "312/312 [==============================] - 270s 865ms/step - loss: 1.2373 - accuracy: 0.6935 - val_loss: 1.4365 - val_accuracy: 0.6704\n",
            "Epoch 17/30\n",
            "312/312 [==============================] - 270s 865ms/step - loss: 1.2099 - accuracy: 0.6981 - val_loss: 1.4304 - val_accuracy: 0.6734\n",
            "Epoch 18/30\n",
            "312/312 [==============================] - 272s 873ms/step - loss: 1.1801 - accuracy: 0.7042 - val_loss: 1.4215 - val_accuracy: 0.6769\n",
            "Epoch 19/30\n",
            "312/312 [==============================] - 278s 892ms/step - loss: 1.1545 - accuracy: 0.7093 - val_loss: 1.4176 - val_accuracy: 0.6762\n",
            "Epoch 20/30\n",
            "312/312 [==============================] - 276s 883ms/step - loss: 1.1322 - accuracy: 0.7132 - val_loss: 1.4218 - val_accuracy: 0.6767\n",
            "Epoch 21/30\n",
            "312/312 [==============================] - 269s 864ms/step - loss: 1.1135 - accuracy: 0.7164 - val_loss: 1.4158 - val_accuracy: 0.6808\n",
            "Epoch 22/30\n",
            "312/312 [==============================] - 269s 862ms/step - loss: 1.0856 - accuracy: 0.7229 - val_loss: 1.4149 - val_accuracy: 0.6830\n",
            "Epoch 23/30\n",
            "312/312 [==============================] - 272s 873ms/step - loss: 1.0682 - accuracy: 0.7261 - val_loss: 1.4167 - val_accuracy: 0.6851\n",
            "Epoch 24/30\n",
            "312/312 [==============================] - 271s 867ms/step - loss: 1.0502 - accuracy: 0.7307 - val_loss: 1.4183 - val_accuracy: 0.6856\n",
            "Epoch 25/30\n",
            "312/312 [==============================] - 270s 867ms/step - loss: 1.0318 - accuracy: 0.7344 - val_loss: 1.4234 - val_accuracy: 0.6867\n",
            "Epoch 26/30\n",
            "312/312 [==============================] - 269s 861ms/step - loss: 1.0123 - accuracy: 0.7386 - val_loss: 1.4060 - val_accuracy: 0.6906\n",
            "Epoch 27/30\n",
            "312/312 [==============================] - 270s 867ms/step - loss: 0.9898 - accuracy: 0.7434 - val_loss: 1.4072 - val_accuracy: 0.6927\n",
            "Epoch 28/30\n",
            "312/312 [==============================] - 270s 865ms/step - loss: 0.9745 - accuracy: 0.7475 - val_loss: 1.4120 - val_accuracy: 0.6957\n",
            "Epoch 29/30\n",
            "312/312 [==============================] - 270s 865ms/step - loss: 0.9564 - accuracy: 0.7517 - val_loss: 1.4113 - val_accuracy: 0.6979\n",
            "Epoch 30/30\n",
            "312/312 [==============================] - 269s 864ms/step - loss: 0.9423 - accuracy: 0.7551 - val_loss: 1.4154 - val_accuracy: 0.6971\n"
          ]
        }
      ]
    },
    {
      "cell_type": "markdown",
      "source": [
        "- mist (\n",
        "- yang ada `</span>`\n",
        "- `me`\n",
        "- `min / rosiglitazone)` -> `Rosiglitazon`"
      ],
      "metadata": {
        "id": "gUt2MEeH2a4M"
      }
    },
    {
      "cell_type": "code",
      "source": [
        "model.save(\"/content/drive/Shareddrives/ML-Capstone/model/model_daniel_ver3.h5\")"
      ],
      "metadata": {
        "id": "FYmVSrjL_OtV"
      },
      "execution_count": null,
      "outputs": []
    }
  ]
}