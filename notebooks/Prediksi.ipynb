{
  "nbformat": 4,
  "nbformat_minor": 0,
  "metadata": {
    "colab": {
      "name": "Prediksi",
      "provenance": [],
      "collapsed_sections": [],
      "authorship_tag": "ABX9TyPFUnK2ySectzVG6DxUhtpy",
      "include_colab_link": true
    },
    "kernelspec": {
      "name": "python3",
      "display_name": "Python 3"
    },
    "language_info": {
      "name": "python"
    }
  },
  "cells": [
    {
      "cell_type": "markdown",
      "metadata": {
        "id": "view-in-github",
        "colab_type": "text"
      },
      "source": [
        "<a href=\"https://colab.research.google.com/github/danielsyahputra13/ml_capstone/blob/master/notebooks/Prediksi.ipynb\" target=\"_parent\"><img src=\"https://colab.research.google.com/assets/colab-badge.svg\" alt=\"Open In Colab\"/></a>"
      ]
    },
    {
      "cell_type": "code",
      "execution_count": null,
      "metadata": {
        "colab": {
          "base_uri": "https://localhost:8080/"
        },
        "id": "CUh9hAS7gjW2",
        "outputId": "f62b2392-3095-4f0d-c8ca-7d6089894b42"
      },
      "outputs": [
        {
          "output_type": "stream",
          "name": "stdout",
          "text": [
            "Drive already mounted at /content/drive; to attempt to forcibly remount, call drive.mount(\"/content/drive\", force_remount=True).\n"
          ]
        }
      ],
      "source": [
        "from google.colab import drive\n",
        "drive.mount('/content/drive')"
      ]
    },
    {
      "cell_type": "code",
      "source": [
        "import pandas as pd\n",
        "import os\n",
        "\n",
        "os.chdir(\"/content/drive/Shareddrives/ML-Capstone/\")\n",
        "os.getcwd()"
      ],
      "metadata": {
        "colab": {
          "base_uri": "https://localhost:8080/",
          "height": 35
        },
        "id": "UQLdPEARg12Z",
        "outputId": "e7242ceb-cb98-45fb-e143-e6b102bcbf88"
      },
      "execution_count": null,
      "outputs": [
        {
          "output_type": "execute_result",
          "data": {
            "text/plain": [
              "'/content/drive/Shareddrives/ML-Capstone'"
            ],
            "application/vnd.google.colaboratory.intrinsic+json": {
              "type": "string"
            }
          },
          "metadata": {},
          "execution_count": 19
        }
      ]
    },
    {
      "cell_type": "code",
      "source": [
        "import re\n",
        "from typing import List\n",
        "\n",
        "import spacy\n",
        "from spacy.tokens import Doc\n",
        "from tqdm import tqdm\n",
        "\n",
        "\n",
        "class SpacyPreprocessor:\n",
        "    def __init__(\n",
        "        self,\n",
        "        spacy_model=None,\n",
        "        remove_numbers=False,\n",
        "        remove_special=True,\n",
        "        pos_to_remove=None,\n",
        "        remove_stopwords=False,\n",
        "        lemmatize=False,\n",
        "    ):\n",
        "        \"\"\"\n",
        "        Preprocesses text using spaCy\n",
        "        :param remove_numbers: Whether to remove numbers from text\n",
        "        :param remove_stopwords: Whether to remove stopwords from text\n",
        "        :param remove_special: Whether to remove special characters (including numbers)\n",
        "        :param pos_to_remove: list of PoS tags to remove\n",
        "        :param lemmatize:  Whether to apply lemmatization\n",
        "        \"\"\"\n",
        "\n",
        "        self._remove_numbers = remove_numbers\n",
        "        self._pos_to_remove = pos_to_remove\n",
        "        self._remove_stopwords = remove_stopwords\n",
        "        self._remove_special = remove_special\n",
        "        self._lemmatize = lemmatize\n",
        "\n",
        "        if not spacy_model:\n",
        "            self.model = spacy.load(\"en_core_web_sm\")\n",
        "        else:\n",
        "            self.model = spacy_model\n",
        "\n",
        "    @staticmethod\n",
        "    def download_spacy_model(model=\"en_core_web_sm\"):\n",
        "        print(f\"Downloading spaCy model {model}\")\n",
        "        spacy.cli.download(model)\n",
        "        print(f\"Finished downloading model\")\n",
        "\n",
        "    @staticmethod\n",
        "    def load_model(model=\"en_core_web_sm\"):\n",
        "        return spacy.load(model, disable=[\"ner\", \"parser\"])\n",
        "\n",
        "    def tokenize(self, text) -> List[str]:\n",
        "        \"\"\"\n",
        "        Tokenize text using a spaCy pipeline\n",
        "        :param text: Text to tokenize\n",
        "        :return: list of str\n",
        "        \"\"\"\n",
        "        doc = self.model(text)\n",
        "        return [token.text for token in doc]\n",
        "\n",
        "    def preprocess_text(self, text) -> str:\n",
        "        \"\"\"\n",
        "        Runs a spaCy pipeline and removes unwanted parts from text\n",
        "        :param text: text string to clean\n",
        "        :return: str, clean text\n",
        "        \"\"\"\n",
        "        doc = self.model(text)\n",
        "        return self.__clean(doc)\n",
        "\n",
        "    def preprocess_text_list(self, texts=List[str]) -> List[str]:\n",
        "        \"\"\"\n",
        "        Runs a spaCy pipeline and removes unwantes parts from a list of text.\n",
        "        Leverages spaCy's `pipe` for faster batch processing.\n",
        "        :param texts: List of texts to clean\n",
        "        :return: List of clean texts\n",
        "        \"\"\"\n",
        "        clean_texts = []\n",
        "        for doc in tqdm(self.model.pipe(texts)):\n",
        "            clean_texts.append(self.__clean(doc))\n",
        "\n",
        "        return clean_texts\n",
        "\n",
        "    def __clean(self, doc: Doc) -> str:\n",
        "\n",
        "        tokens = []\n",
        "        # POS Tags removal\n",
        "        if self._pos_to_remove:\n",
        "            for token in doc:\n",
        "                if token.pos_ not in self._pos_to_remove:\n",
        "                    tokens.append(token)\n",
        "        else:\n",
        "            tokens = doc\n",
        "\n",
        "        # Remove Numbers\n",
        "        if self._remove_numbers:\n",
        "            tokens = [\n",
        "                token for token in tokens if not (token.like_num or token.is_currency)\n",
        "            ]\n",
        "\n",
        "        # Remove Stopwords\n",
        "        if self._remove_stopwords:\n",
        "            tokens = [token for token in tokens if not token.is_stop]\n",
        "        # remove unwanted tokens\n",
        "        tokens = [\n",
        "            token\n",
        "            for token in tokens\n",
        "            if not (\n",
        "                token.is_punct or token.is_space or token.is_quote or token.is_bracket\n",
        "            )\n",
        "        ]\n",
        "\n",
        "        # Remove empty tokens\n",
        "        tokens = [token for token in tokens if token.text.strip() != \"\" and token.text != 'amp']\n",
        "\n",
        "        # Lemmatize\n",
        "        if self._lemmatize:\n",
        "            text = \" \".join([token.lemma_ for token in tokens])\n",
        "        else:\n",
        "            text = \" \".join([token.text for token in tokens])\n",
        "\n",
        "        if self._remove_special:\n",
        "            # Remove non alphabetic characters\n",
        "            text = re.sub(r\"[^a-zA-Z\\']\", \" \", text)\n",
        "        # remove non-Unicode characters\n",
        "        text = re.sub(r\"[^\\x00-\\x7F]+\", \"\", text)\n",
        "        text = re.sub(r\"\\s{2,}\", \"\", text)\n",
        "\n",
        "        text = text.lower()\n",
        "\n",
        "        return text"
      ],
      "metadata": {
        "id": "MtKc9rzMg3ey"
      },
      "execution_count": null,
      "outputs": []
    },
    {
      "cell_type": "code",
      "source": [
        "spacy_model = SpacyPreprocessor.load_model()\n",
        "preprocessor = SpacyPreprocessor(spacy_model=spacy_model, lemmatize=True, remove_numbers=True, remove_stopwords=True)"
      ],
      "metadata": {
        "id": "w1l9CkSXhIww"
      },
      "execution_count": null,
      "outputs": []
    },
    {
      "cell_type": "code",
      "source": [
        "pred = preprocessor.preprocess_text(\"\"\"I have been on this birth control for one cycle. After reading some of the reviews on this type and similar birth controls I was a bit apprehensive to start. Im giving this birth control a 9 out of 10 as I have not been on it long enough for a 10. So far I love this birth control! My side effects have been so minimal its like Im not even on birth control! I have experienced mild headaches here and there and some nausea but other than that ive been feeling great! I got my period on cue on the third day of the inactive pills and I had no idea it was coming because I had zero pms! My period was very light and I barely had any cramping! I had unprotected sex the first month and obviously didn&#039;t get pregnant so I&#039;m very pleased! Highly recommend\"\"\")"
      ],
      "metadata": {
        "id": "gG0XawZZhLDu"
      },
      "execution_count": null,
      "outputs": []
    },
    {
      "cell_type": "markdown",
      "source": [
        "## Load Tokenizer\n"
      ],
      "metadata": {
        "id": "d_KbOY02hYKU"
      }
    },
    {
      "cell_type": "code",
      "source": [
        "os.listdir(\"assets\")"
      ],
      "metadata": {
        "colab": {
          "base_uri": "https://localhost:8080/"
        },
        "id": "uDuGiSuhhT9M",
        "outputId": "a0f49784-2b62-4e83-fe45-345c17ade5da"
      },
      "execution_count": null,
      "outputs": [
        {
          "output_type": "execute_result",
          "data": {
            "text/plain": [
              "['tokenizer.json',\n",
              " 'encoder.npy',\n",
              " 'tokenizer_with_counts_100.json',\n",
              " 'encoder_with_count_100.npy',\n",
              " 'medicine.pkl',\n",
              " 'tokenizer_counts_1000.json',\n",
              " 'encoder_counts_1000.npy']"
            ]
          },
          "metadata": {},
          "execution_count": 23
        }
      ]
    },
    {
      "cell_type": "code",
      "source": [
        "import tensorflow as tf\n",
        "import json\n",
        "from tensorflow.keras.preprocessing.text import tokenizer_from_json\n",
        "\n",
        "import numpy as np\n",
        "from tensorflow.keras.preprocessing.text import Tokenizer\n",
        "from tensorflow.keras.preprocessing.sequence import pad_sequences"
      ],
      "metadata": {
        "id": "I7nfnqYmhw0I"
      },
      "execution_count": null,
      "outputs": []
    },
    {
      "cell_type": "code",
      "source": [
        "with open('assets/tokenizer_with_counts_100.json') as f:\n",
        "    data = json.load(f)\n",
        "    tokenizer = tokenizer_from_json(data)"
      ],
      "metadata": {
        "id": "WBwP3Hi7hcDd"
      },
      "execution_count": null,
      "outputs": []
    },
    {
      "cell_type": "code",
      "source": [
        "vocab_size = 5000\n",
        "embedding_dim = 100\n",
        "max_length = 100\n",
        "trunc_type = 'post'\n",
        "padding_type = 'post'\n",
        "oov_tok = '<OOV>'"
      ],
      "metadata": {
        "id": "EDYjDYhCiK_j"
      },
      "execution_count": null,
      "outputs": []
    },
    {
      "cell_type": "code",
      "source": [
        "pred_sequences = tokenizer.texts_to_sequences([pred])\n",
        "pred_padded = pad_sequences(pred_sequences, maxlen=max_length, padding=padding_type, truncating=trunc_type)"
      ],
      "metadata": {
        "id": "hvhRkQIgh6Hq"
      },
      "execution_count": null,
      "outputs": []
    },
    {
      "cell_type": "code",
      "source": [
        "print(len(pred_sequences))\n",
        "print(pred_padded.shape)"
      ],
      "metadata": {
        "colab": {
          "base_uri": "https://localhost:8080/"
        },
        "id": "Thr9T0d0h7S4",
        "outputId": "8b6e64bb-346f-4051-bdf8-474116a4df79"
      },
      "execution_count": null,
      "outputs": [
        {
          "output_type": "stream",
          "name": "stdout",
          "text": [
            "1\n",
            "(1, 100)\n"
          ]
        }
      ]
    },
    {
      "cell_type": "code",
      "source": [
        "pred_padded"
      ],
      "metadata": {
        "colab": {
          "base_uri": "https://localhost:8080/"
        },
        "id": "_mJj52NXilpo",
        "outputId": "89ab899a-3e08-4fc7-9ce9-d82582a9f4b2"
      },
      "execution_count": null,
      "outputs": [
        {
          "output_type": "execute_result",
          "data": {
            "text/plain": [
              "array([[  53,   35,  280,  114,  120,  342,  834,   53,   35,  142, 3108,\n",
              "           9,    1,   50,   53,   35,   47,   73,   82,   53,   35,   10,\n",
              "         540,   18,    1,   53,   35,   30,  194,   62,   79,   44,    5,\n",
              "          42,   15,   21,    1,    2, 2665,   20,  653,   58,  779,   21,\n",
              "         105,  411,  275,    1,   77,    4, 1155,   41,  157,   11,  813,\n",
              "         295,   70,    0,    0,    0,    0,    0,    0,    0,    0,    0,\n",
              "           0,    0,    0,    0,    0,    0,    0,    0,    0,    0,    0,\n",
              "           0,    0,    0,    0,    0,    0,    0,    0,    0,    0,    0,\n",
              "           0,    0,    0,    0,    0,    0,    0,    0,    0,    0,    0,\n",
              "           0]], dtype=int32)"
            ]
          },
          "metadata": {},
          "execution_count": 29
        }
      ]
    },
    {
      "cell_type": "markdown",
      "source": [
        "## Load model"
      ],
      "metadata": {
        "id": "7lxo2cE-i_Z_"
      }
    },
    {
      "cell_type": "code",
      "source": [
        "os.listdir(\"model\")"
      ],
      "metadata": {
        "colab": {
          "base_uri": "https://localhost:8080/"
        },
        "id": "c_TOtS4GiyIB",
        "outputId": "567d54a3-530b-45b9-9e1f-3130f5beec1a"
      },
      "execution_count": null,
      "outputs": [
        {
          "output_type": "execute_result",
          "data": {
            "text/plain": [
              "['model_daniel.h5',\n",
              " 'model_mardi1.h5',\n",
              " 'model_daniel_ver2.h5',\n",
              " 'model_daniel_ver3.h5',\n",
              " 'model_daniel_GRU.h5',\n",
              " 'model_daniel_GRU_ver2.h5',\n",
              " 'model_laras.h5',\n",
              " 'GRU_dense.h5',\n",
              " 'GRU_dense_with_count_100.h5',\n",
              " 'sentiment_model.h5']"
            ]
          },
          "metadata": {},
          "execution_count": 30
        }
      ]
    },
    {
      "cell_type": "code",
      "source": [
        "model = tf.keras.models.load_model('model/GRU_dense_with_count_100.h5')"
      ],
      "metadata": {
        "id": "UNExRyQejCOn"
      },
      "execution_count": null,
      "outputs": []
    },
    {
      "cell_type": "code",
      "source": [
        "model.summary()"
      ],
      "metadata": {
        "colab": {
          "base_uri": "https://localhost:8080/"
        },
        "id": "XshDP1JEjO88",
        "outputId": "3cd353c1-812f-4688-a215-7030425c5340"
      },
      "execution_count": null,
      "outputs": [
        {
          "output_type": "stream",
          "name": "stdout",
          "text": [
            "Model: \"sequential\"\n",
            "_________________________________________________________________\n",
            " Layer (type)                Output Shape              Param #   \n",
            "=================================================================\n",
            " embedding (Embedding)       (None, None, 100)         500000    \n",
            "                                                                 \n",
            " bidirectional (Bidirectiona  (None, None, 128)        63744     \n",
            " l)                                                              \n",
            "                                                                 \n",
            " gru_1 (GRU)                 (None, 64)                37248     \n",
            "                                                                 \n",
            " dense (Dense)               (None, 128)               8320      \n",
            "                                                                 \n",
            " dense_1 (Dense)             (None, 185)               23865     \n",
            "                                                                 \n",
            "=================================================================\n",
            "Total params: 633,177\n",
            "Trainable params: 633,177\n",
            "Non-trainable params: 0\n",
            "_________________________________________________________________\n"
          ]
        }
      ]
    },
    {
      "cell_type": "code",
      "source": [
        "result = model.predict(pred_padded)[0]"
      ],
      "metadata": {
        "id": "ongap2GzjRyI"
      },
      "execution_count": null,
      "outputs": []
    },
    {
      "cell_type": "code",
      "source": [
        "result"
      ],
      "metadata": {
        "colab": {
          "base_uri": "https://localhost:8080/"
        },
        "id": "be5iA5cYjdC0",
        "outputId": "706251e9-6a8a-40cd-9e11-15a529aac221"
      },
      "execution_count": null,
      "outputs": [
        {
          "output_type": "execute_result",
          "data": {
            "text/plain": [
              "array([9.57393886e-14, 1.52874261e-03, 3.78343393e-05, 2.42825089e-17,\n",
              "       1.32882042e-19, 1.46924614e-16, 4.54121468e-15, 4.55215424e-17,\n",
              "       1.33681938e-13, 4.22728390e-20, 1.02434875e-11, 2.90451121e-14,\n",
              "       9.00340685e-18, 2.06006256e-14, 3.39943962e-09, 3.69539555e-09,\n",
              "       4.90933738e-10, 5.42407739e-17, 3.87635989e-14, 9.16492793e-13,\n",
              "       7.06215626e-21, 1.18189204e-17, 2.20384515e-13, 3.32279018e-12,\n",
              "       3.94589339e-17, 3.03995956e-12, 4.32627718e-12, 8.32797447e-16,\n",
              "       2.00583278e-12, 4.11488275e-17, 9.41923275e-11, 2.14502527e-10,\n",
              "       2.21158514e-09, 9.94843960e-01, 1.81847993e-19, 3.87775966e-13,\n",
              "       2.04929907e-16, 1.33452993e-12, 1.02256583e-16, 5.69150660e-15,\n",
              "       2.68719317e-17, 3.73559875e-24, 8.64731531e-15, 3.12079984e-12,\n",
              "       1.14662024e-20, 2.02695846e-12, 5.38853684e-12, 1.09035256e-16,\n",
              "       4.14468165e-28, 6.48392527e-13, 3.12967832e-14, 4.22328290e-14,\n",
              "       2.34001351e-18, 6.97482570e-20, 5.63866326e-17, 7.41066809e-17,\n",
              "       6.82467537e-12, 2.53640782e-20, 8.76153194e-09, 2.85769924e-17,\n",
              "       7.37839058e-19, 3.45288229e-12, 4.38215084e-13, 8.22442903e-22,\n",
              "       2.41499998e-09, 1.11586870e-24, 5.57823504e-21, 2.40263576e-17,\n",
              "       3.75553051e-24, 1.12641173e-15, 1.35886337e-21, 5.85612042e-07,\n",
              "       1.34329218e-03, 1.02382269e-16, 1.93993252e-10, 3.75876327e-12,\n",
              "       2.79096773e-10, 4.90654886e-17, 1.28562232e-23, 1.92863071e-15,\n",
              "       8.56146046e-13, 1.02338639e-14, 7.55138236e-25, 1.25084013e-15,\n",
              "       3.78123317e-24, 8.75489947e-13, 7.40109437e-16, 6.71255690e-11,\n",
              "       1.80201840e-10, 2.97965587e-15, 1.41998441e-07, 3.88498372e-10,\n",
              "       3.92691462e-16, 2.17302901e-16, 2.87774908e-11, 4.53317098e-13,\n",
              "       4.56919788e-12, 1.53233378e-22, 3.63133494e-14, 4.91749679e-15,\n",
              "       1.20307909e-12, 5.72781319e-12, 1.92951480e-14, 3.32169604e-11,\n",
              "       8.21052532e-11, 1.92980911e-03, 1.64348431e-14, 2.44239686e-08,\n",
              "       1.76257351e-13, 4.46527276e-14, 4.75576947e-18, 4.21021498e-17,\n",
              "       2.57435272e-15, 1.62960635e-14, 2.85115703e-12, 1.72071572e-13,\n",
              "       1.80896728e-18, 6.60466311e-13, 2.43945859e-16, 2.19805156e-06,\n",
              "       1.27210222e-11, 1.88201039e-12, 2.79992014e-21, 4.88060859e-14,\n",
              "       1.08164509e-15, 1.15997378e-18, 1.12904469e-11, 4.89653977e-12,\n",
              "       2.98109405e-19, 5.29116987e-05, 2.38467666e-12, 5.82688628e-12,\n",
              "       4.23007775e-11, 6.39050945e-19, 1.95262459e-10, 4.95828552e-12,\n",
              "       4.30965767e-12, 1.59979070e-19, 2.56213068e-04, 5.43780132e-10,\n",
              "       9.06594840e-13, 1.56295130e-07, 4.03881756e-07, 3.96427113e-09,\n",
              "       3.85701287e-06, 2.35804865e-13, 1.77431247e-12, 1.24060652e-19,\n",
              "       1.82976572e-12, 7.76097242e-12, 1.89363678e-16, 5.87224183e-15,\n",
              "       7.93653337e-13, 3.07461247e-17, 8.19372578e-14, 7.70871377e-13,\n",
              "       8.21827957e-15, 1.05618655e-21, 3.28444445e-14, 6.22781313e-14,\n",
              "       5.99567596e-14, 3.01903058e-27, 2.48173374e-16, 6.15009996e-12,\n",
              "       5.47592638e-10, 2.61806961e-13, 3.57366933e-16, 5.56895734e-16,\n",
              "       4.51784941e-17, 3.13390908e-28, 3.05415729e-16, 8.35518551e-15,\n",
              "       9.75642830e-16, 1.12403663e-10, 1.03908157e-15, 1.40306180e-15,\n",
              "       2.56402018e-17, 8.61283205e-26, 1.26800697e-13, 1.19427620e-13,\n",
              "       2.28027108e-23, 3.08591569e-10, 1.30201524e-12, 4.11720613e-17,\n",
              "       1.52753458e-17], dtype=float32)"
            ]
          },
          "metadata": {},
          "execution_count": 34
        }
      ]
    },
    {
      "cell_type": "code",
      "source": [
        "idx = result.argsort()[-3:][::-1]\n",
        "print(\"Penyakit ke -\", idx)"
      ],
      "metadata": {
        "colab": {
          "base_uri": "https://localhost:8080/"
        },
        "id": "exHHCM3Ajrkp",
        "outputId": "be770762-3790-4a84-a203-82edebbf1b94"
      },
      "execution_count": null,
      "outputs": [
        {
          "output_type": "stream",
          "name": "stdout",
          "text": [
            "Penyakit ke - [ 33 105   1]\n"
          ]
        }
      ]
    },
    {
      "cell_type": "code",
      "source": [
        "result[idx[0]]"
      ],
      "metadata": {
        "colab": {
          "base_uri": "https://localhost:8080/"
        },
        "id": "wORS7TyRtGOz",
        "outputId": "d9274910-3f26-4126-ac9e-e9bc2004a18f"
      },
      "execution_count": null,
      "outputs": [
        {
          "output_type": "execute_result",
          "data": {
            "text/plain": [
              "0.99484396"
            ]
          },
          "metadata": {},
          "execution_count": 45
        }
      ]
    },
    {
      "cell_type": "markdown",
      "source": [
        "## Load encoder"
      ],
      "metadata": {
        "id": "Hp0z806ek2Cd"
      }
    },
    {
      "cell_type": "code",
      "source": [
        "os.listdir(\"assets\")"
      ],
      "metadata": {
        "colab": {
          "base_uri": "https://localhost:8080/"
        },
        "id": "L4ymQeZ8kmqn",
        "outputId": "78469c55-7d76-4b24-94ac-3eed69fa4fc2"
      },
      "execution_count": null,
      "outputs": [
        {
          "output_type": "execute_result",
          "data": {
            "text/plain": [
              "['tokenizer.json',\n",
              " 'encoder.npy',\n",
              " 'tokenizer_with_counts_100.json',\n",
              " 'encoder_with_count_100.npy',\n",
              " 'medicine.pkl',\n",
              " 'tokenizer_counts_1000.json',\n",
              " 'encoder_counts_1000.npy']"
            ]
          },
          "metadata": {},
          "execution_count": 40
        }
      ]
    },
    {
      "cell_type": "code",
      "source": [
        "from sklearn.preprocessing import LabelEncoder\n",
        "encoder = LabelEncoder()\n",
        "encoder.classes_ = np.load('assets/encoder_with_count_100.npy', allow_pickle=True)"
      ],
      "metadata": {
        "id": "sYv_Evv6k6UM"
      },
      "execution_count": null,
      "outputs": []
    },
    {
      "cell_type": "code",
      "source": [
        "encoder.inverse_transform(idx)"
      ],
      "metadata": {
        "colab": {
          "base_uri": "https://localhost:8080/"
        },
        "id": "aOC8oUoHlL0H",
        "outputId": "ce6c9ad4-d3ca-41bd-ab96-8c38cff0a451"
      },
      "execution_count": null,
      "outputs": [
        {
          "output_type": "execute_result",
          "data": {
            "text/plain": [
              "array(['Birth Control', 'Menstrual Disorders',\n",
              "       'Abnormal Uterine Bleeding'], dtype=object)"
            ]
          },
          "metadata": {},
          "execution_count": 42
        }
      ]
    },
    {
      "cell_type": "code",
      "source": [
        "penyakits = encoder.inverse_transform(idx)"
      ],
      "metadata": {
        "id": "L97SbfJYTTDD"
      },
      "execution_count": null,
      "outputs": []
    },
    {
      "cell_type": "code",
      "source": [
        "penyakits"
      ],
      "metadata": {
        "id": "wISGZlrhuc5k",
        "outputId": "7e57a407-91b1-4d20-934f-a74b2c0310c4",
        "colab": {
          "base_uri": "https://localhost:8080/"
        }
      },
      "execution_count": null,
      "outputs": [
        {
          "output_type": "execute_result",
          "data": {
            "text/plain": [
              "array(['Birth Control', 'Menstrual Disorders',\n",
              "       'Abnormal Uterine Bleeding'], dtype=object)"
            ]
          },
          "metadata": {},
          "execution_count": 46
        }
      ]
    },
    {
      "cell_type": "markdown",
      "source": [
        "Deskripsi"
      ],
      "metadata": {
        "id": "N_x8M2oRTZ22"
      }
    },
    {
      "cell_type": "code",
      "source": [
        "os.listdir(\"dataset\")"
      ],
      "metadata": {
        "colab": {
          "base_uri": "https://localhost:8080/"
        },
        "id": "uTw-nTt3TY8T",
        "outputId": "5a14b5c3-006c-41da-a7a5-368666b8d1f2"
      },
      "execution_count": null,
      "outputs": [
        {
          "output_type": "execute_result",
          "data": {
            "text/plain": [
              "['drugsComTrain_raw.tsv',\n",
              " 'drugsComTest_raw.tsv',\n",
              " 'train.csv',\n",
              " 'test.csv',\n",
              " 'data.csv',\n",
              " 'train1.csv',\n",
              " 'test1.csv',\n",
              " 'train_cleaned.csv',\n",
              " 'test_cleaned.csv',\n",
              " 'drugsComTest_raw (1).gsheet',\n",
              " 'drugsComTest_raw.gsheet',\n",
              " 'condition.csv',\n",
              " 'inquirerbasic.csv',\n",
              " 'condition.gsheet',\n",
              " 'condition.xlsx']"
            ]
          },
          "metadata": {},
          "execution_count": 112
        }
      ]
    },
    {
      "cell_type": "code",
      "source": [
        "description = pd.read_excel(\"dataset/condition.xlsx\")[[\"Condition\", \"Deskripsi\"]]"
      ],
      "metadata": {
        "id": "zf335r4tTeag"
      },
      "execution_count": null,
      "outputs": []
    },
    {
      "cell_type": "code",
      "source": [
        "description.to_json(orient=\"records\")"
      ],
      "metadata": {
        "colab": {
          "base_uri": "https://localhost:8080/",
          "height": 140
        },
        "id": "DIIhLlCyTyH1",
        "outputId": "362bdb55-f47e-4be7-8e8f-d33b6fb8259b"
      },
      "execution_count": null,
      "outputs": [
        {
          "output_type": "execute_result",
          "data": {
            "text/plain": [
              "'[{\"Condition\":\"ADHD\",\"Deskripsi\":\"ADHD atau attention deficit hyperactivity disorder adalah gangguan mental yang menyebabkan anak sulit memusatkan perhatian, serta memiliki perilaku impulsif dan hiperaktif, Kondisi ini dapat berdampak pada prestasi anak di sekolah.\"},{\"Condition\":\"Birth Control\",\"Deskripsi\":\"Pengaturan kelahiran atau bisa disebut juga kontrasepsi adalah upaya yang diambil dalam mengatur dan mengontrol angka kelahiran bayi dalam masyarakat. Dalam hal ini kontrasepsi ditujukan untuk membentuk keluarga yang bahagia dan sejahtera dengan terpenuhinya semua kebutuhan kesehatan anak-anak dan anggota keluarga lainnya. \"},{\"Condition\":\"Opiate Dependence\",\"Deskripsi\":\"Opioid atau opiat adalah salah satu jenis narkotika yang bersifat depresan, yang berfungsi mengurangi aktifitas fungsional tubuh. Jenis ini membuat pemakainya merasa tenang, pendiam, dan bahkan membuat tidur dan tidak sadarkan diri. Meski disebut sebagai narkotik, obat ini aman digunakan selama dengan resep dokter. Opioid baru akan menyebabkan ketergantungan bila diminum secara sembarangan. Ketergantungan terjadi saat konsumsi opioid yang tadinya bertujuan untuk meredakan nyeri beralih fungsi menjadi satu-satunya sumber kebahagiaan Anda. Ciri utama dari ketergantungan opioid adalah ketidakmampuan untuk berhenti mengonsumsi obat. Orang yang kecanduan biasanya juga telah berusaha menghentikan kebiasaannya, tetapi selalu gagal.\"},{\"Condition\":\"Benign Prostatic Hyperplasia\",\"Deskripsi\":\"Pembesaran prostat jinak atau benign prostatic hyperplasia (BPH) adalah kondisi ketika kelenjar prostat membesar. Akibatnya, aliran urine menjadi tidak lancar dan buang air kecil terasa tidak tuntas. Kelenjar prostat hanya dimiliki oleh pria. Gejala utama benign prostatic hyperplasia adalah gangguan saat buang air kecil, yang bisa berupa: urine sulit keluar di awal buang air kecil, perlu mengejan saat buang air kecil, atau aliran urine lemah atau tersendat-sendat. \"},{\"Condition\":\"Emergency Contraception\",\"Deskripsi\":\"Kontrasepsi darurat adalah cara untuk mencegah kehamilan setelah hubungan seks yang tidak menggunakan pengaman. Sering disebut sebagai morning after pill, pil kontrasepsi darurat ini mengandung hormon yang dapat dikonsumsi wanita setelah melakukan hubungan seks. Pil kontrasepsi darurat adalah salah satu metode yang dibutuhkan wanita untuk mencegah kehamilan. Cara kerja pil KB atau kontrasepsi darurat (morning after pill) adalah dengan menunda ovulasi alias pelepasan sel telur wanita selama siklus bulanan.\"},{\"Condition\":\"Bipolar Disorde\",\"Deskripsi\":\"Gangguan bipolar adalah gangguan mental yang ditandai dengan perubahan yang drastis pada suasana hati. Penderita gangguan ini bisa merasa sangat bahagia kemudian berubah menjadi sangat sedih. Gangguan bipolar dapat diderita seumur hidup sehingga memengaruhi aktivitas penderitanya. Namun, pemberian obat-obatan dan psikoterapi dapat membantu penderita menjalani kegiatan sehari-hari. \"},{\"Condition\":\"Epilepsy\",\"Deskripsi\":\"Epilepsi adalah gangguan pada sistem saraf pusat akibat pola aktivitas listrik yang berlebihan di otak. Hal ini menyebabkan penderitanya mengalami kejang secara berulang pada sebagian atau seluruh tubuh.Seseorang dinyatakan menderita epilepsi jika pernah mengalami kejang lebih dari satu kali tanpa penyebab yang jelas. Epilepsi dapat diderita oleh semua kelompok usia, tetapi biasanya epilepsi dimulai saat masih anak-anak.\"},{\"Condition\":\"Migraine Prevention\",\"Deskripsi\":\"Migrain tidak dapat disembuhkan sepenuhnya, tetapi ada beberapa upaya yang bisa dilakukan untuk mengurangi frekuensi serangan penyakit ini. Beberapa upaya yang dapat dilakukan untuk mencegah terjadinya serangan migrain adalah mengidentifikasi dan mencegah pemicu migrain,membuat catatan terkait pemicu migrain, misalnya konsumsi makanan tertentu, aktivitas yang dilakukan, obat yang dikonsumsi, atau paparan senyawa yang menyengat, agar dapat dihindari, menerapkan pola makan dan pola tidur yang cukup dan teratur, berolahraga rutin dengan intensitas ringan\\\\u2013sedang, yang didahului dengan pemanasan, dan menjaga berat badan agar selalu ideal\"},{\"Condition\":\"Depression\",\"Deskripsi\":\"Depresi adalah gangguan suasana hati (mood) yang ditandai dengan perasaan sedih yang mendalam dan kehilangan minat terhadap hal-hal yang disukai. Seseorang dinyatakan mengalami depresi jika sudah 2 minggu merasa sedih, putus harapan, atau tidak berharga. Seseorang yang depresi umumnya menunjukkan ciri-ciri psikologi dan fisik tertentu. Ciri psikologis orang yang depresi adalah rasa cemas dan khawatir yang berlebihan, emosi yang tidak stabil, serta rasa putus asa atau frustrasi. Sementara itu, ciri-ciri fisik pada seseorang yang depresi adalah selalu merasa lelah dan tak bertenaga, pusing dan nyeri tanpa penyebab yang jelas, serta menurunnya selera makan.\"},{\"Condition\":\"Crohn\\'s Disease\",\"Deskripsi\":\"Crohn\\\\u2019s disease adalah peradangan pada lapisan dinding sistem pencernaan. Peradangan ini bisa terjadi mulai dari mulut hingga anus, tetapi lebih sering terjadi di bagian usus halus dan usus besar (kolon). Crohn\\\\u2019s disease atau penyakit Crohn merupakan penyakit yang terjadi dalam jangka panjang (kronis).\"},{\"Condition\":\"Cough\",\"Deskripsi\":\"Batuk adalah respons alami tubuh untuk mengeluarkan zat dan partikel dari dalam saluran pernapasan agar tidak masuk ke saluran napas bawah. Batuk juga dapat menandakan kondisi lain, mulai dari asma sampai kanker paru-paru. Namun, batuk yang berlangsung selama beberapa minggu dapat menandakan suatu kondisi yang memerlukan pertolongan medis, apalagi jika disertai gejala lain, seperti demam dan dahak berwarna kuning kehijauan atau bercampur darah. Selain dengan mengonsumsi obat batuk, ada beberapa upaya mandiri yang bisa dilakukan untuk mengatasi batuk. Caranya adalah dengan beristirahat yang cukup, banyak minum air putih, dan mengonsumsi madu.\"},{\"Condition\":\"Obesity\",\"Deskripsi\":\"Obesitas adalah kondisi ketika lemak yang menumpuk di dalam tubuh sangat banyak akibat kalori masuk lebih banyak dibandingkan yang dibakar. Jika tidak segera ditangani, obesitas dapat meningkatkan risiko terjadinya penyakit jantung, hipertensi, hingga diabetes. Obesitas ditandai dengan nilai indeks massa tubuh (IMT) 30 atau lebih, mudah atau banyak berkeringat, penumpukan lemak di beberapa area tubuh, mudah lelah, dan nyeri sendi. Pada anak-anak, obesitas umumnya ditandai dengan penumpukan lemak di bagian payudara, sesak ketika melakukan aktivitas fisik, dan gangguan pubertas.\"},{\"Condition\":\"Urinary Tract Infection\",\"Deskripsi\":\"Infeksi saluran kemih adalah kondisi ketika organ yang termasuk ke dalam sistem kemih mengalami infeksi. Organ tersebut bisa ginjal, ureter, uretra, atau kandung kemih. Namun, infeksi saluran kemih umumnya terjadi di uretra dan kandung kemih. Infeksi saluran kemih dapat ditandai dengan sakit saat buang air kecil, sering buang air kecil tapi urine yang keluar sedikit, dan warna urine keruh atau merah karena adanya darah.\"},{\"Condition\":\"ibromyalgia\",\"Deskripsi\":\"Fibromialgia atau fibromyalgia adalah penyakit yang ditandai oleh rasa nyeri di sekujur tubuh, disertai rasa lelah dan gangguan tidur. Kondisi ini bisa mengganggu aktivitas sehari-hari sehingga penderitanya dapat mengalami gangguan kecemasan atau depresi. Gejala utama fibromyalgia adalah sakit di banyak bagian tubuh yang berlangsung setidaknya selama 3 bulan. Rasa sakit ini dapat berupa nyeri yang tumpul, sensasi terbakar, atau seperti ditusuk-tusuk. Tingkat keparahan gejala fibromyalgia bisa berbeda pada tiap penderita. Perbedaan tersebut dapat dipengaruhi oleh aktivitas, tingkat stres yang dialami penderita, serta perubahan cuaca.\"},{\"Condition\":\"Chronic Myelogenous Leukemia\",\"Deskripsi\":\"Myelogenous leukemia kronis (CML) merupakan suatu jenis kanker yang disebabkan oleh gangguan pada hematopoietic stem cell. CML adalah bentuk leukemia yang ditandai dengan peningkatan dan pertumbuhan yang tak terkendali dari sel myeloid pada sumsum tulang. Penyakit ini ditandai oleh proliferasi dari seri granulosit tanpa gangguan diferensiasi,\\\\nsehingga pada apusan darah tepi kita dapat dengan mudah melihat tingkatan diferensiasi seri granulosit, mulai dari promielosit (bahkan mieloblas), metamielosit, mielositsampai granulosit.\"},{\"Condition\":\"HIV Infection\",\"Deskripsi\":\"HIV (Human Immunodeficiency Virus) adalah virus yang menyerang sistem kekebalan tubuh yang dapat melemahkan kemampuan tubuh melawan infeksi dan penyakit. Seseorang yang terinfeksi HIV dapat menularkannya kepada orang lain, bahkan sejak beberapa minggu sejak tertular. Semua orang berisiko terinfeksi HIV.\\\\n\\\\nTahap pertama HIV adalah tahap infeksi akut, yang terjadi pada beberapa bulan pertama setelah seseorang terinfeksi HIV. Pada tahap ini, sistem kekebalan tubuh orang yang terinfeksi membentuk antibodi untuk melawan virus HIV. Gejala pada tahap ini muncul 2\\\\u20134 minggu setelah infeksi terjadi yaitu demam hingga menggigil, muncul ruam di kulit, dan muntah.\\\\n\\\\nSetelah beberapa bulan, infeksi HIV memasuki tahap kedua yaitu laten. Pada tahap ini, virus HIV tetap aktif merusak daya tahan tubuh, tetapi berkembang biak dalam jumlah yang lebih sedikit. Gejalanya antara lain berat badan menurun, berkeringat di malam hari, dan batuk.\\\\n\\\\nInfeksi tahap laten yang terlambat ditangani akan membuat HIV makin berkembang. Kondisi ini membuat infeksi HIV memasuki tahap ketiga, yaitu AIDS. Pada tahap ini, sistem kekebalan tubuh sudah rusak parah sehingga penderita akan lebih mudah terserang infeksi lain.\"},{\"Condition\":\"Insomnia\",\"Deskripsi\":\"Insomnia adalah gangguan yang menyebabkan penderitanya sulit tidur atau tidak cukup tidur, meski terdapat cukup waktu untuk melakukannya. Gangguan ini bisa berdampak pada aktivitas penderita keesokan harinya. \"},{\"Condition\":\"Rheumatoid Arthritis\",\"Deskripsi\":\"Rheumatoid arthritis adalah peradangan jangka panjang pada sendi akibat sistem kekebalan tubuh yang secara keliru menyerang tubuh. Rheumatoid arthritis ditandai dengan bengkak, nyeri, dan kaku pada sendi. Selain menyerang sendi, rheumatoid arthritis juga bisa menyerang organ lain, seperti kulit, pembuluh darah, paru-paru, mata, dan jantung.\"},{\"Condition\":\"Vaginal Yeast Infection\",\"Deskripsi\":\"Infeksi jamur vagina dapat menimbulkan rasa tidak nyaman, gatal, dan perih di vagina. Ada berbagai hal yang dapat memicu terjadinya infeksi jamur vagina, mulai dari efek samping obat-obatan hingga penyakit tertentu. Meski tidak berbahaya, kondisi ini bisa semakin parah jika tidak diobati dengan benar. Gejala infeksi jamur vagina antara lain rasa gatal parah pada vagina, rasa nyeri atau perih saat buang air kecil atau berhubungan seksual, bagian luar atau bibir vagina (vulva) tampak kemerahan dan bengkak, nyeri dan ruam pada vagina, dan keputihan yang menggumpal namun tidak berbau.\"},{\"Condition\":\"Chlamydia Infection\",\"Deskripsi\":\"Chlamydia adalah penyakit menular seksual yang disebabkan oleh infeksi bakteri. Jika tidak segera diobati, chlamydia dapat meningkatkan risiko kemandulan, terutama pada wanita. Chlamydia dapat dialami oleh pria atau wanita. Pada pria, penyakit ini dapat menyerang saluran kencing (uretritis). Sedangkan pada wanita, chlamydia bisa terjadi di organ panggul.\"},{\"Condition\":\"Hirsutism\",\"Deskripsi\":\"Hirsutisme adalah tumbuhnya rambut tebal pada wanita, di bagian tubuh yang biasanya tumbuh rambut pada pria, seperti di wajah (janggut), dada, dan punggung. Kondisi ini juga dapat disertai dengan beberapa gejala lain, seperti suara menjadi berat dan otot membesar. \"},{\"Condition\":\"Panic Disorde\",\"Deskripsi\":\"Gangguan panik adalah kondisi yang ditandai dengan serangan panik atau kecemasan berlebihan secara tiba-tiba. Gangguan ini dapat terjadi berulang kali tanpa alasan yang jelas.\"},{\"Condition\":\"Migraine\",\"Deskripsi\":\"Migrain adalah sakit kepala yang terasa berdenyut dan biasanya terjadi pada salah satu sisi kepala. Migrain dapat berlangsung selama beberapa jam atau bahkan beberapa hari. Gejala utama migrain adalah nyeri kepala hebat di salah satu sisi kepala. Nyeri yang dirasakan umumnya nyeri berdenyut dengan intensitas sedang hingga berat, yang makin terasa ketika bergerak, melihat cahaya terang, atau mendengar suara bising.\"},{\"Condition\":\"Pain\",\"Deskripsi\":\"Rasa sakit merupakan cara tubuh berkomunikasi dengan pemiliknya. Ketika salah satu tubuh kita dalam bahaya atau rusak, rasa sakit tersebut memberitahu kita bahwa ada yang salah di bagian tersebut. Sangat berbahaya apabila tubuh tidak bisa merasakan sakit dan merespon rangsangan dari luar. Nyatanya, manusia yang tidak bisa merasakan sakit memang benar adanya. Dalam istilah medis, orang tersebut disebut dengan pasien penderita CIPA (Congenital insensitivity to pain with Anhydrosis).\"},{\"Condition\":\"Irritable Bowel Syndrome\",\"Deskripsi\":\"Sindrom iritasi usus besar adalah kumpulan gejala akibat iritasi pada saluran pencernaan. Beberapa gejala yang bisa timbul akibat kondisi ini adalah sakit atau kram perut yang berulang, kembung, diare, atau sembelit. Sindrom iritasi usus besar merupakan kondisi jangka panjang yang bersifat kambuhan. Sindrom iritasi usus besar dapat menimbulkan keluhan dan gejala berupa kembung, nyeri atau kram perut yang berulang, dan diare atau susah buang air besar (konstipasi).\"},{\"Condition\":\"Osteoarthritis\",\"Deskripsi\":\"Osteoarthritis adalah peradangan kronis di sendi akibat kerusakan pada tulang rawan. Osteoarthritis adalah jenis arthritis atau radang sendi yang paling sering terjadi. Kondisi ini menyebabkan keluhan, seperti sendi-sendi terasa sakit, kaku, dan bengkak. Osteoarthritis bisa menyerang semua sendi, tetapi kondisi ini paling sering terjadi di sendi-sendi jari tangan, lutut, pinggul, dan tulang punggung.\"},{\"Condition\":\"Constipation\",\"Deskripsi\":\"Konstipasi (sembelit) adalah gangguan pencernaan akibat penurunan kerja usus. Masalah pencernaan ini ditandai dengan keluhan susah buang air besar atau BAB tidak lancar dalam jangka waktu tertentu.\"},{\"Condition\":\"Bowel Preparation\",\"Deskripsi\":\"Bowel preparation adalah cara untuk memastikan usus Anda kosong sebelum Anda menjalani operasi. Ini dilakukan untuk memastikan bahwa Anda tidak memiliki masalah dari infeksi. Ini sangat penting jika Anda menjalani operasi usus. Tetapi orang juga melakukannya sebelum operasi lain di perut atau sebelum kolonoskopi atau sigmoidoskopi.\"},{\"Condition\":\"Muscle Spasm\",\"Deskripsi\":\"Otot yang tegang terjadi ketika seseorang meregangkan otot atau menggunakan otot secara berlebihan. Ini bisa juga terjadi ketika seseorang mengalami kecelakaan atau jatuh. Seseorang yang tidak melakukan pemanasan dengan benar sebelum berolahraga juga memiliki risiko lebih tinggi untuk mengalami ketegangan otot. Gejala otot tegang yang paling umum adalah pembengkakan, memar, dan kemerahan di area yang cedera.\"},{\"Condition\":\"Hepatitis C\",\"Deskripsi\":\"Hepatitis C adalah peradangan pada hati akibat infeksi virus hepatisis C. Jika berlangsung lama, hepatitis C dapat menyebabkan penyakit hati kronis, gagal hati, hingga kanker hati. Virus hepatitis C menular melalui darah. Hal ini bisa terjadi lewat transfusi darah atau penggunaan jarum suntik bersama. Virus hepatitis C juga dapat menular melalui hubungan seks tanpa kondom dengan penderita.\"},{\"Condition\":\"Overactive Bladde\",\"Deskripsi\":\"Overactive bladder (OAB) atau Beser merupakan kondisi ketika Anda buang air kecil terlalu sering. Beberapa penyebab beser antara lain infeksi saluran kemih, terlalu banyak minum, kandung kemih terlalu aktif, konsumsi kafein berlebihan, vaginitis, pielonefritis, dan gangguan kecemasan.\"},{\"Condition\":\"Diabetes, Type 2\",\"Deskripsi\":\"Diabetes tipe 2 adalah kondisi ketika kadar gula darah melebihi nilai normal akibat resistensi insulin. Diabetes tipe 2 merupakan jenis diabetes yang paling sering terjadi. Kondisi yang berlangsung dalam jangka panjang ini lebih sering dialami oleh orang dewasa. Pasien diabetes tipe 2 dapat mengalami berbagai gejala, misalnya luka sulit sembuh, penglihatan kabur, dan mati rasa atau kesemutan di tangan atau kaki.\"},{\"Condition\":\"Asthma, Maintenance\",\"Deskripsi\":\"Pengobatan asma bertujuan untuk meredakan gejala dan mencegah timbulnya serangan asma. Dokter akan menyesuaikan metode pengobatannya dengan penyebab asma, serta usia, tingkat keparahan kondisi, dan respons pasien terhadap pengobatan. Metode pengobatan jangka pendek bertujuan untuk secara cepat meredakan serangan asma saat sedang terjadi dan mencegah kekambuhan gejala. Ada tiga jenis obat yang dapat digunakan pada metode ini, yaitu inhaler short-acting beta2-agonist, kortikosteroid oral atau infus, dan Obat antikolinergik. \\\\n\\\\nPengobatan jangka panjang bertujuan untuk meredakan gejala dengan mengurangi peradangan dan mencegah penyempitan saluran pernapasan. Metode ini dilakukan dengan mengonsumsi obat-obatan secara rutin, seperti kortikosteroid dalam bentuk hirup atau pil, obat biologis bentuk suntik seperti omalizumab, mepolizumab, reslizumab, dan benralizumab.\\\\n\\\\nUntuk penanganan darurat, dokter akan memberikan obat-obatan melalui nebulizer atau infus. Bila diperlukan, dokter juga dapat memberikan terapi oksigen atau alat bantu pernapasan, seperti ventilator atau tabung oksigen. \"},{\"Condition\":\"Non-Small Cell Lung Cance\",\"Deskripsi\":\"Kanker paru adalah jenis kanker yang paling sering ditemukan di Indonesia tanpa melihat jenis kelamin. Ada dua jenis utama kanker paru-paru, kanker paru-paru sel kecil \\\\/ small cell lung cancer (SCLC) dan kanker paru-paru sel tidak kecil \\\\/ non small cell lung cancer (NSCLC). SCLC adalah bentuk kanker paru yang lebih agresif. Sel-sel pada kanker paru sel kecil cenderung tumbuh dengan cepat dan dapat menyebar ke bagian tubuh lain (metastasis). Sehingga seringkali kondisi ini baru bisa didiagnosa setelah kanker telah menyebar ke seluruh tubuh, dan membuat tingkat kesembuhan sangat rendah.\"},{\"Condition\":\"Schizophrenia\",\"Deskripsi\":\"Skizofrenia adalah gangguan mental yang dapat memengaruhi tingkah laku, emosi, dan komunikasi. Penderita skizofrenia dapat mengalami halusinasi, delusi, kekacauan berpikir, dan perubahan perilaku. Gejala skizofrenia terbagi menjadi dua kategori, yakni gejala positif dan gejala negatif. Gejala positif bisa berupa halusinasi, delusi (waham), atau perilaku tidak normal. Sementara itu, gejala negatif ditandai dengan kecenderungan penderita yang menarik diri dari pergaulan dan tidak peduli dengan penampilan.\"},{\"Condition\":\"Dysuria\",\"Deskripsi\":\"Disuria adalah rasa nyeri, tidak nyaman, atau panas saat buang air kecil. Rasa nyeri bisa berasal dari kandung kemih, uretra, atau area antara alat kelamin dan anus. Kondisi ini juga dikenal sebagai anyang-anyangan atau sakit kencing. Disuria merupakan masalah kesehatan yang sangat umum, tapi kasusnya lebih banyak terjadi pada wanita daripada pria. Penyebabnya sangat beragam, mulai dari pemakaian produk pembersih yang kurang tepat, infeksi, hingga penyakit kandung kemih serta pada saluran perkemihan lain.\"},{\"Condition\":\"Smoking Cessation\",\"Deskripsi\":\"Smoking Cessation mengacu pada proses berhenti dari kebiasaan merokok. Merokok atau merokok tembakau memiliki beberapa efek berbahaya bagi tubuh, terutama karena kandungan nikotin yang membuat mereka sangat adiktif. Hal inilah yang membuat penghentian penggunaan rokok menjadi suatu tantangan yang mungkin memerlukan proses yang panjang dan sulit.\"},{\"Condition\":\"Anxiety\",\"Deskripsi\":\"Kecemasan merupakan istilah untuk menggambarkan kondisi psikologis yang mewakili karakteristik berupa rasa gelisah, khawatir, risau hati, atau takut.\"},{\"Condition\":\"Acne\",\"Deskripsi\":\"Jerawat adalah masalah kulit yang terjadi ketika folikel rambut atau tempat tumbuhnya rambut tersumbat oleh minyak dan sel kulit mati. Jerawat ditandai dengan munculnya bintik-bintik di beberapa bagian tubuh, seperti wajah, leher, punggung, dan dada.\"},{\"Condition\":\"Constipation, Drug Induced\",\"Deskripsi\":\"Drug-induced constipation (DIC) atau  Konstipasi yang diinduksi obat adalah komorbiditas nyeri kanker yang terkenal, namun data tentang prevalensinya pada nyeri nonmalignant (NMP) dan efek biopsikososialnya masih sedikit.\"},{\"Condition\":\"Erectile Dysfunction\",\"Deskripsi\":\"Disfungsi ereksi adalah ketidakmampuan mencapai atau mempertahankan ereksi yang cukup untuk berhubungan seksual. Terdapat 3 kondisi yang bisa menjadi tanda-tanda gangguan ereksi, yaitu tidak bisa ereksi, bisa ereksi tetapi hanya sebentar, dan kurangnya gairah seks. Terpicunya gairah seksual pria hingga terjadinya ereksi merupakan proses yang tidak sederhana. Proses tersebut melibatkan otak, saraf, otot, pembuluh darah, hormon, dan emosi. Disfungsi ereksi biasanya terjadi jika hal-hal tersebut mengalami masalah.\"},{\"Condition\":\"Trigeminal Neuralgia\",\"Deskripsi\":\"Trigeminal neuralgia adalah rasa nyeri kronis akibat gangguan pada saraf trigeminalaraf kelima dari dua belas pasang saraf yang berasal dari otak (saraf kranial). Rasa nyeri ini biasanya muncul hanya di salah satu sisi wajah dan paling sering terjadi di wajah bagian bawah dan rahang. Trigeminal neuralgia ditandai dengan rasa nyeri. Nyeri tersebut terasa seperti ditusuk benda tajam atau tersengat listrik. Serangan nyeri ini biasanya berlangsung selama beberapa detik hingga 2 menit. Setelah serangan nyeri hebat, penderita juga dapat merasakan nyeri seperti terbakar dan berdenyut-denyut. Umumnya, nyeri muncul pada pipi, rahang, gusi, gigi, bibir, dan terkadang juga pada mata dan dahi.\"},{\"Condition\":\"Underactive Thyroid\",\"Deskripsi\":\"Hipotiroid atau Kelenjar Tiroid yang Kurang Aktif terjadi apabila kelenjar tiroid tidak menghasilkan hormon tiroid yang cukup.Artinya sel tubuh tidak mendapatkan hormon tiroid yang cukup untuk bekerja dengan baik dan metabolisme tubuh pun melambat. Hipotiroid bisa disebabkan oleh banyak hal, diantaranya penyakit autoimun, kerusakan kelenjar tiroid, yodium yang terlalu banyak atau terlalu sedikit serta akibat pengobatan dengan radiasi. Jika tak diobati, gejala hipotiroid akan meningkat dan menyebabkan komplikasi yang serius sampai mengancam jiwa.\"},{\"Condition\":\"Chronic Pain\",\"Deskripsi\":\"Penyakit kronis mengacu pada kondisi medis yang berlangsung dalam kurun waktu lama atau terjadi secara perlahan-lahan. Penyakit kronis juga berpotensi menjadi penyakit serius yang berbahaya jika tidak ditangani dengan segera. Penyakit kronis juga dapat diartikan dengan penyakit yang bisa saja timbul sewaktu-waktu, secara berulang, dalam waktu yang lama, dan dapat bertambah parah dalam jangka waktu tertentu.\"},{\"Condition\":\"Atrophic Vaginitis\",\"Deskripsi\":\"Atrofi vagina (vaginitis atrofi) adalah penipisan, pengeringan, dan peradangan pada dinding vagina yang mungkin terjadi saat tubuh memiliki lebih sedikit estrogen. Umumnya, atrofi vagina terjadi setelah wanita mengalami menopause. Pada sebagian besar kasus, atrofi vagina menyebabkan hubungan seksual menjadi menyakitkan dan menimbulkan gejala kencing yang mengganggu. \"},{\"Condition\":\"Major Depressive Disorde\",\"Deskripsi\":\"Depresi mayor merupakan jenis depresi yang membuat penderitanya merasa sedih dan putus asa sepanjang waktu. Seseorang dikatakan menderita depresi mayor jika mengalami beberapa gejala berikut ini suasana hati yang murung dan suram, kehilangan minat terhadap hobi atau aktivitas lain yang sebelumnya disukai, perubahan berat badan, gangguan tidur, dan sering merasa lelah dan kurang berenergi.\"},{\"Condition\":\"Anxiety and Stress\",\"Deskripsi\":\"Kecemasan merupakan istilah untuk menggambarkan kondisi psikologis yang mewakili karakteristik berupa rasa gelisah, khawatir, risau hati, atau takut. Stres adalah pemicu umum kecemasan dan penting untuk mengetahui gejala kecemasan dini untuk mencegah perkembangan gangguan kecemasan. Serangan panik misalnya, adalah gejala kecemasan dan bukan stres. \"},{\"Condition\":\"Rosacea\",\"Deskripsi\":\"Rosacea adalah penyakit kulit wajah yang ditandai dengan kulit kemerahan disertai bintik-bintik menyerupai jerawat. Kondisi ini juga dapat menyebabkan kulit wajah menebal dan pembuluh darah di wajah membengkak. Gejala rosacea antara lain kulit kemerahan, terutama di bagian tengah wajah, pembuluh darah di wajah tampak jelas, pori-pori wajah membesar, dan mata merah dan iritasi.\"},{\"Condition\":\"High Blood Pressure\",\"Deskripsi\":\"Hipertensi adalah kondisi ketika tekanan darah berada di angka 130\\\\/80 mmHg atau lebih. Jika tidak segera ditangani, hipertensi atau tekanan darah tinggi bisa menyebabkan munculnya penyakit-penyakit serius yang mengancam nyawa, seperti gagal jantung, penyakit ginjal, dan stroke. Untuk mencegah tekanan darah tinggi, lakukan olahraga secara rutin, jaga berat badan agar tetap ideal, konsumsi makanan sehat, kelola stres, dan cukup tidur. Periksakan juga tekanan darah secara berkala ke dokter, terlebih jika Anda memiliki faktor yang dapat meningkatkan risiko hipertensi.\"},{\"Condition\":\"Restless Legs Syndrome\",\"Deskripsi\":\"Sindrom kaki gelisah (restless legs syndrome\\\\/RLS) atau penyakit Willis-Ekbom adalah penyakit saraf yang ditandai dengan sensasi tidak menyenangkan yang menimbulkan dorongan kuat untuk menggerakkan dan menghentakan kaki. Sensasi tersebut bisa berupa rasa gatal, geli, kesetrum, kesemutan, nyeri, kram, atau seperti ada serangga sedang merayap di bawah kulit. RLS biasanya terjadi ketika penderitanya sedang istirahat, terutama di malam hari, hingga dapat mengganggu waktu dan kualitas tidur.\"},{\"Condition\":\"Bronchitis\",\"Deskripsi\":\"Bronkitis adalah iritasi atau peradangan di dinding saluran bronkus, yaitu pipa yang menyalurkan udara dari tenggorokan ke paru-paru. Bronkitis bisa terjadi dalam hitungan hari, minggu, bahkan bulan. Bronkitis biasanya ditandai dengan batuk, yang terkadang disertai dengan keluarnya dahak atau lendir akibat iritasi pada dinding bronkus.  Bronkitis yang memburuk dan tidak ditangani berisiko menyebabkan pneumonia maupun bronkopneumonia, yang ditandai dengan nyeri dada, demam, dan penurunan kesadaran.\"},{\"Condition\":\"Skin or Soft Tissue Infection\",\"Deskripsi\":\"Infeksi kulit dan jaringan lunak (SSTI), yang meliputi infeksi kulit, jaringan subkutan, fasia, dan otot, mencakup spektrum yang luas dari presentasi klinis, mulai dari selulitis sederhana hingga fasciitis nekrotikans progresif cepat. Infeksi ini disebabkan oleh bakteri yang masuk dan menyebar ke dalam kulit. Akibatnya, muncul tanda-tanda peradangan, seperti pembengkakan, warna kemerahan, rasa nyeri, atau terasa hangat ketika disentuh.\"},{\"Condition\":\"Obsessive Compulsive Disorde\",\"Deskripsi\":\"Gangguan mental yang mendorong penderitanya untuk melakukan tindakan tertentu secara berulang-ulang. Tindakan tersebut ia lakukan untuk mengurangi kecemasan dalam pikirannya. Dapat dialami oleh siapa saja dari semua kelompok usia, tetapi paling sering muncul di usia 7\\\\u201317 tahun. Ada beberapa faktor yang diduga dapat meningkatkan risiko terjadinya OCD, antara lain faktor genetik, perubahan pada senyawa kimia otak, dan pengaruh lingkungan.\"},{\"Condition\":\"Endometriosis\",\"Deskripsi\":\"Endometriosis adalah kondisi ketika endometrium tumbuh di luar dinding rahim. Pada kondisi ini, endometrium dapat tumbuh di indung telur (ovarium), lapisan dalam perut (peritoneum), usus, vagina, atau saluran kemih. Endometriosis ditandai dengan keluhan nyeri, terutama pada siklus menstruasi. Endometriosis juga dapat menyebabkan nyeri panggul dalam jangka panjang (kronis) hingga kemandulan.\"},{\"Condition\":\"Seizures\",\"Deskripsi\":\"Kejang adalah gangguan aktivitas listrik di otak yang terjadi secara spontan. Kondisi ini umumnya ditandai dengan gerakan tubuh yang tidak terkendali, bahkan bisa menyebabkan penurunan kesadaran. Kejang bisa menjadi gejala penyakit otak atau kondisi lain yang memengaruhi otak.\"},{\"Condition\":\"Neuropathic Pain\",\"Deskripsi\":\"Nyeri Neuropatik dapat terjadi jika sistem saraf Anda rusak atau tidak bekerja dengan benar. Anda dapat merasakan nyeri dari berbagai tingkat sistem saraf\\\\u2014saraf perifer, sumsum tulang belakang, dan otak. Bersama-sama, sumsum tulang belakang dan otak dikenal sebagai sistem saraf pusat. Saraf perifer adalah saraf yang menyebar ke seluruh tubuh Anda ke tempat-tempat seperti organ, lengan, kaki, jari tangan dan kaki. Serabut saraf yang rusak mengirimkan sinyal yang salah ke pusat nyeri. Fungsi saraf dapat berubah di lokasi kerusakan saraf, serta area di sistem saraf pusat (sensitisasi sentral).\"},{\"Condition\":\"Sedation\",\"Deskripsi\":\"Sedasi, juga dikenal sebagai perawatan anestesi yang dipantau, sedasi sadar, atau sedasi senja, biasanya digunakan untuk operasi kecil atau untuk prosedur yang lebih pendek dan tidak terlalu rumit, ketika suntikan anestesi lokal tidak cukup tetapi anestesi umum yang lebih dalam tidak diperlukan. Prosedur ini mungkin termasuk beberapa jenis biopsi atau melibatkan penggunaan ruang lingkup untuk memeriksa tenggorokan atau usus besar untuk menemukan dan mengobati kondisi medis seperti kanker.\"},{\"Condition\":\"Menstrual Disorders\",\"Deskripsi\":\"Gangguan menstruasi adalah kelainan yang terjadi pada siklus menstruasi. Gangguan menstruasi bisa berupa perdarahan menstruasi yang terlalu banyak atau terlalu sedikit, siklus menstruasi tidak teratur, menstruasi terjadi lebih dari 7 hari, tidak menstruasi lebih dari 3 bulan, atau bahkan tidak pernah haid sama sekali. Gangguan menstruasi juga bisa disertai dengan keluhan berat, seperti nyeri dan kram parah, hingga depresi menjelang menstruasi.\"},{\"Condition\":\"Allergic Rhinitis\",\"Deskripsi\":\"Rhinitis adalah peradangan atau iritasi pada lapisan lendir hidung, yang ditandai dengan gejala berupa pilek, hidung tersumbat, dan bersin-bersin. Kondisi ini juga dapat terjadi akibat radang pada mata, telinga, atau tenggorokan. Rhinitis terbagi menjadi dua jenis, yakni rhinitis yang disebabkan oleh alergi dan nonalergi. Rhinitis ringan dapat diatasi dengan irigasi atau bilas hidung, serta obat pilek yang bisa dibeli tanpa resep. Namun, bila tidak kunjung membaik, konsultasikan dengan dokter guna mendapatkan penanganan lebih lanjut.\"},{\"Condition\":\"Anesthesia\",\"Deskripsi\":\"Dalam bidang kesehatan, pembiusan disebut dengan anestesi, yang berarti \\\\u2018kehilangan sensasi\\\\u2019. Tujuan penggunaan obat bius adalah untuk membuat mati rasa area tubuh tertentu atau bahkan membuat Anda tidak sadarkan diri (tertidur). \"},{\"Condition\":\"Diabetes, Type 1\",\"Deskripsi\":\"Diabetes tipe 1 adalah kondisi ketika kadar gula atau glukosa dalam darah naik melebihi batas normal akibat tubuh tidak menghasilkan cukup insulin. Diabetes tipe ini biasanya dideteksi pada anak-anak dan remaja. Diabetes tipe 1 terjadi ketika tubuh kurang atau sama sekali tidak memproduksi insulin, Akibatnya, penderita diabetes tipe 1 memerlukan tambahan insulin dari luar.\"},{\"Condition\":\"Abnormal Uterine Bleeding\",\"Deskripsi\":\"Perdarahan uterus abnormal adalah adanya perdarahan hebat atau perdarahan yang tidak biasanya dari uterus keluar melalui Miss V. Perdarahan ini dapat terjadi kapan saja saat siklus menstruasi atau di luar siklus menstruasi.\"},{\"Condition\":\"Weight Loss\",\"Deskripsi\":\"Penurunan berat badan diartikan sebagai penurunan massa dan lemak tubuh. Namun, dalam kasus-kasus yang ekstrim, kondisi ini juga mencakup hilangnya protein, massa tubuh tak berlemak (lean mass), dan substrat lain dalam tubuh. Penurunan berat badan ini bisa saja terjadi secara sengaja, seperti saat Anda melakukan diet atausecara tidak sengaja, seperti saat terkena penyakit seperti infeksi atau kanker.\"},{\"Condition\":\"Constipation, Chronic\",\"Deskripsi\":\"Konstipasi atau sembelit adalah kondisi yang ditandai dengan sulit buang air besar (BAB) atau frekuensi BAB yang lebih sedikit daripada biasanya. Kondisi ini sering kali dipicu oleh pola makan yang tidak mengonsumsi cukup serat. Konstipasi kronis adalah pergerakan pada usus yang jarang terjadi atau kesulitan untuk buang air besar yang menetap selama beberapa minggu atau pun lebih lama. Sembelit yang umum terjadi dapat digambarkan ketika seseorang membuang air besar kurang dari tiga kali dalam seminggu.\"},{\"Condition\":\"Breast Cancer, Metastatic\",\"Deskripsi\":\"Kanker payudara adalah kanker yang terbentuk di jaringan payudara. Kanker payudara terjadi ketika sel-sel pada jaringan yang ada di payudara tumbuh tidak terkendali dan mengambil alih jaringan payudara yang sehat dan sekitarnya.\"},{\"Condition\":\"Period Pain\",\"Deskripsi\":\"Dismenore atau nyeri haid adalah nyeri atau kram di perut bagian bawah yang muncul sebelum atau saat menstruasi. Dismenore dapat bersifat ringan, tetapi juga bisa parah sehingga mengganggu aktivitas sehari-hari.\"},{\"Condition\":\"Helicobacter Pylori Infection\",\"Deskripsi\":\"Infeksi Helicobacter pylori adalah suatu penyakit yang disebabkan oleh Helicobacter pylori, yaitu bakteri yang dapat hidup di dalam lambung. Infeksi ini dapat terjadi ketika bakteri menyerang serta merusak dinding lambung. Pada kondisi normal, lambung akan mengeluarkan asam untuk membunuh bakteri yang masuk ke dalam saluran pencernaan bersama makanan. Akan tetapi, Helicobacter pylori dapat hidup dalam asam, sehingga asam lambung menjadi tidak efektif dalam membunuh bakteri tersebut.\"},{\"Condition\":\"Atrial Fibrillation\",\"Deskripsi\":\"Fibrilasi atrium atau atrial fibrilasi (AF) adalah gangguan irama jantung yang ditandai dengan denyut jantung tidak beraturan dan cepat. Penderita atrial fibrilasi dapat merasakan gejala lemas, jantung berdebar, dan sesak napas. Denyut jantung yang normal berkisar antara 60\\\\u2013100 kali per menit dengan irama yang teratur. Pada penderita atrial fibrilasi, irama jantung menjadi tidak teratur dan bisa lebih dari 100 kali per menit.\"},{\"Condition\":\"Kidney Infections\",\"Deskripsi\":\"Infeksi ginjal atau pielonefritis adalah infeksi pada organ ginjal yang dapat menimbulkan gejala berupa munculnya darah atau nanah pada urine. Infeksi ginjal sering kali terjadi akibat infeksi kandung kemih sebelumnya. Infeksi ginjal lebih berisiko terjadi pada wanita dibandingkan pria. Selain itu, kelainan saluran kemih yang sudah ada sebelumnya juga membuat seseorang lebih rentan terkena infeksi ginjal. Untuk mengobati infeksi ginjal, umumnya tidak diperlukan rawat inap, kecuali bila penderita adalah anak-anak, mengalami dehidrasi, atau menderita sepsis.\"},{\"Condition\":\"Generalized Anxiety Disorde\",\"Deskripsi\":\"Gangguan kecemasan umum adalah munculnya rasa cemas atau khawatir yang berlebihan dan tidak terkendali terhadap berbagai hal dan kondisi. Kondisi ini akan mengganggu aktivitas sehari-hari penderitanya. Gangguan kecemasan umum dapat terjadi pada siapa saja, namun paling sering terjadi pada orang dewasa yang berusia lebih dari 30 tahun.\"},{\"Condition\":\"Asthma\",\"Deskripsi\":\"Asma adalah penyakit kronis pada saluran pernapasan yang ditandai dengan sesak akibat peradangan dan penyempitan pada saluran napas. Asma dapat diderita oleh semua golongan usia, baik muda maupun tua. Penderita asma memiliki saluran pernapasan yang lebih sensitif dibandingkan orang normal. Ketika paru-paru terpapar pemicu asma, maka otot-otot di saluran pernapasan akan kaku sehingga membuat saluran tersebut menyempit. Selain itu, produksi dahak juga meningkat. Kombinasi dari kondisi tersebut membuat penderita mengalami gejala asma.\"},{\"Condition\":\"Postmenopausal Symptoms\",\"Deskripsi\":\"Postmenopause adalah waktu setelah menopause telah terjadi. Setelah ini terjadi, Anda berada dalam masa pascamenopause selama sisa hidup Anda. Orang-orang di pascamenopause berada pada peningkatan risiko untuk kondisi kesehatan tertentu seperti osteoporosis dan penyakit jantung. Orang-orang di pascamenopause dapat merasakan gejala seperti hot flashes (sensasi panas), depresi, insomnia, inkontinensia urin, dsb. \"},{\"Condition\":\"High Cholesterol\",\"Deskripsi\":\"Kolesterol tinggi adalah kondisi ketika kadar kolesterol di dalam darah melebihi batas normal. Jika dibiarkan, kolesterol yang berlebihan bisa menumpuk di pembuluh darah sehingga meningkatkan risiko terjadinya serangan jantung dan stroke. Seseorang berisiko terkena kolesterol tinggi jika menjalani pola hidup yang tidak sehat, seperti merokok, mengonsumsi minuman beralkohol, atau mengonsumsi makanan berlemak secara berlebihan. Risiko kolesterol tinggi juga lebih besar pada penderita penyakit tertentu, misalnya diabetes dan penyakit ginjal. \"},{\"Condition\":\"Hypogonadism, Male\",\"Deskripsi\":\"Hipogonadisme adalah kondisi ketika kelenjar seksual tidak menghasilkan hormon dalam jumlah yang cukup. Kondisi ini dapat menimbulkan berbagai gangguan, seperti impotensi pada pria. Pada pasien pria, penanganan hipogonadisme umumnya dilakukan untuk menutupi kekurangan hormon testosteron, melalui terapi penggantian testosteron (testosterone replacement therapy; TRT).\"},{\"Condition\":\"Back Pain\",\"Deskripsi\":\"Nyeri punggung adalah rasa sakit atau kaku yang dapat terjadi di sepanjang tulang belakang, yaitu dari bawah leher hingga tulang ekor. Nyeri punggung merupakan gejala dari suatu kondisi atau penyakit yang berkaitan dengan tulang belakang. Nyeri punggung umumnya disebabkan oleh gangguan pada ruas tulang belakang atau jaringan di sekitarnya, seperti otot, pembuluh darah, atau saraf.\"},{\"Condition\":\"Asthma, acute\",\"Deskripsi\":\"Asma akut berat ialah perburukan serangan asma secara progresif berupa sesak nafas,mengi dan dada berat - Asma akut berat merupakan kedaruratan medik yang dapat menyebabkan kematian.\"},{\"Condition\":\"Hot Flashes\",\"Deskripsi\":\"Hot flashes adalah sensasi panas atau gerah terutama di leher, wajah, dan dada. Rasa panas dan gerah ini bisa muncul secara tiba-tiba dan disertai dengan kulit yang terlihat kemerahan. Umumnya, hot flashes dialami oleh wanita yang sedang memasuki fase perimenopause dan menopause. Hot flashes bisa muncul secara tiba-tiba dengan durasi umumnya 30 detik hingga beberapa menit, tapi bisa juga lebih lama. Gejala hot flashes bisa terasa setiap hari atau beberapa hari dalam 1 minggu dan dapat berlangsung selama lebih dari 7 tahun.\"},{\"Condition\":\"Herpes Simplex, Suppression\",\"Deskripsi\":\"Herpes simpleks adalah infeksi Herpes simplex virus (HSV), yang menyebabkan timbulnya vesikel pada kulit atau mukosa orofasial, genital, dan anus. HSV merupakan virus yang umum dijumpai di masyarakat. Umumnya, infeksi HSV, baik tipe 1 dan tipe 2, bersifat benigna. HSV 1 sering menyebabkan infeksi pada orofasial, sedangkan HSV 2 sering menyebabkan infeksi genital. Namun, pada keadaan tertentu dapat menjadi berat, misalnya menyebabkan ensefalitis bila menyerang neonatus dan pasien imunokompromais.\"},{\"Condition\":\"Bacterial Infection\",\"Deskripsi\":\"Infeksi bakteri adalah penyakit infeksi yang disebabkan oleh bakteri. Infeksi ini dapat menyebabkan demam, batuk, hingga tanda peradangan, seperti nyeri dan pembengkakan, pada penderitanya. Infeksi bakteri terjadi ketika bakteri yang merugikan masuk ke dalam tubuh dan berkembang biak dengan cepat. Bakteri tersebut dapat menginfeksi organ tubuh tertentu, seperti paru-paru, ginjal, bahkan otak.\"},{\"Condition\":\"Hashimoto\\'s disease\",\"Deskripsi\":\"penyakit Hashimoto adalah penyakit peradangan pada kelenjar tiroid akibat sistem kekebalan tubuh (sistem imun) menyerang sel-sel dan jaringan tiroid. Penyakit Hashimoto merupakan penyebab tersering dari kondisi hipotiroidisme. Saat penderita penyakit Hashimoto mengalami hipotiroidisme, akan muncul gejala berupa lelah dan lesu, suara serak, kulit pucat dan kering, sembelit, kuku menjadi rapuh, rambut rontok, dll.\"},{\"Condition\":\"Eczema\",\"Deskripsi\":\"Suatu kondisi medis di mana bercak kulit menjadi kasar dan meradang, dengan lepuh yang menyebabkan gatal dan pendarahan, kadang-kadang akibat reaksi iritasi (dermatitis eksim) tetapi lebih sering tidak memiliki penyebab eksternal yang jelas. \"},{\"Condition\":\"Dental Abscess\",\"Deskripsi\":\"Abses gigi adalah terbentuknya kantung atau benjolan berisi nanah pada gigi. Abses gigi disebabkan oleh infeksi bakteri. Kondisi ini bisa muncul di sekitar akar gigi atau di gusi. Gejala utama dari abses gigi adalah munculnya rasa sakit di gigi atau gusi yang bisa datang tiba-tiba dan makin memburuk. Gejala lain yang bisa muncul pada penderita abses gigi adalah demam, gusi bengkak, rasa sakit saat mengunyah dan mengigit, sakit gigi yang menyebar ke telinga, rahang, dan leher Gigi berubah warna, dll.\"},{\"Condition\":\"Headache\",\"Deskripsi\":\"Sakit kepala adalah rasa sakit atau nyeri di kepala yang bisa muncul secara bertahap atau mendadak. Nyeri akibat sakit kepala dapat muncul di salah satu sisi kepala, terpusat di titik tertentu, atau menyebar hingga ke seluruh bagian kepala. Sakit kepala bisa terasa ringan hingga berat dan dapat berlangsung beberapa jam hingga berhari-hari.\"},{\"Condition\":\"Breast Cance\",\"Deskripsi\":\"Kanker payudara adalah kanker yang terbentuk di jaringan payudara. Kanker payudara terjadi ketika sel-sel pada jaringan yang ada di payudara tumbuh tidak terkendali dan mengambil alih jaringan payudara yang sehat dan sekitarnya.\"},{\"Condition\":\"Diverticulitis\",\"Deskripsi\":\"Divertikulitis adalah peradangan atau infeksi yang terjadi pada divertikula, yaitu kantung-kantung yang terbentuk di sepanjang saluran percernaan, terutama di usus besar (kolon). Saat divertikula terbentuk di dinding usus besar, umumnya penderita tidak mengalami gejala apa pun. Hanya di kasus tertentu, kondisi ini dapat menimbulkan gejala berupa nyeri pada perut, sembelit, perut kembung, dan tinja mengandung darah.\"},{\"Condition\":\"Sinusitis\",\"Deskripsi\":\"Sinusitis adalah peradangan di lapisan sinus, yang umumnya ditandai dengan pilek, hidung tersumbat, dan nyeri di area wajah. Kondisi ini bisa berlangsung dalam hitungan minggu, bulan, atau bahkan tahun. Kondisi lain yang dapat menyebabkan sinusitis adalah polip hidung, tulang hidung bengkok (deviasi septum), cystic fibrosis, dan daya tahan tubuh lemah. Baik sinusitis akut maupun sinusitis kronis dapat menimbulkan gejala serupa, yaitu pilek, hidung tersumbat, nyeri di bagian wajah, dan penurunan kemampuan indra penciuman.\"},{\"Condition\":\"Polycystic Ovary Syndrome\",\"Deskripsi\":\"Sindrom Polikistik Ovarium atau Polycystic Ovarian Syndrome (PCOS) adalah gangguan hormon yang terjadi pada wanita di usia subur. PCOS ditandai dengan gangguan menstruasi dan kadar hormon maskulin (hormon androgen) yang berlebihan. Hormon androgen yang berlebihan pada penderita PCOS dapat mengakibatkan ovarium atau indung telur memproduksi banyak kantong-kantong berisi cairan. Kondisi ini menyebabkan sel-sel telur tidak berkembang dengan sempurna dan gagal dilepaskan secara teratur..\"},{\"Condition\":\"Influenza\",\"Deskripsi\":\"Flu atau influenza adalah infeksi virus yang menyerang hidung, tenggorokan, dan paru-paru. Penderita flu dapat mengalami demam, sakit kepala, pilek, hidung tersumbat, serta batuk. Banyak orang mengira flu sama dengan batuk pilek biasa (common cold). Walaupun gejalanya mirip, kedua kondisi ini disebabkan oleh jenis virus yang berbeda. Gejala flu lebih parah dan menyerang secara mendadak, sedangkan gejala batuk pilek biasa cenderung ringan dan muncul secara bertahap. \"},{\"Condition\":\"Hypothyroidism, After Thyroid Removal\",\"Deskripsi\":\"Penyakit hipotirodisme adalah kelainan akibat kekurangan hormon tiroid. Kelainan ini akan membuat penderitanya mudah lelah dan sulit untuk berkonsentrasi. Gejala hipotirodisme meliputi mudah lelah dan pusing, sembelit atau susah buang air besar, otot-otot terasa lemah, nyeri, dan kaku, lebih sensitif pada cuaca dingin, kulit kering, kasar, mudah mengelupas, dan keriput.\"},{\"Condition\":\"Onychomycosis, Toenail\",\"Deskripsi\":\"Onikomikosis adalah infeksi jamur kuku kaki yang paling umum terjadi pada orang dewasa dan lansia. Sebenarnya, onkomikosis tidak menyebabkan gejala yang menyakitkan, kecuali jika kuku sudah menebal sehingga sakit saat menggunakan sepatu. Gejala lainnya yang mungkin terjadi, meliputi: area kuku yang terinfeksi menebal dan mengera,  warna kuku berubah, awalnya keputihan menjadi kuning buram hingga cokelat, terjadi parathesia (sensasi menusuk, kesemutan, atau sensasi merayap pada kuku dan kulit sekitarnya) kondisi ini biasanya ketika infeksi sudah merusak saraf, atau ujung kuku menjadi lebih rapuh sehingga mudah terkikis.\"},{\"Condition\":\"GERD\",\"Deskripsi\":\"GERD (gastroesophageal reflux disease) atau penyakit asam lambung disebabkan oleh melemahnya katup atau sfingter yang terletak di kerongkongan bagian bawah. Normalnya, katup ini akan terbuka untuk memungkinkan makanan serta minuman masuk menuju lambung dan dicerna. Gejala yang biasa terjadi saat asam lambung naik adalah rasa asam atau pahit di mulut dan sensasi perih atau panas terbakar di dada dan ulu hati. Kedua gejala ini biasanya akan semakin memburuk saat penderita membungkuk, berbaring, atau setelah makan. \"},{\"Condition\":\"Herpes Simplex\",\"Deskripsi\":\"Herpes Simpleks atau herpes genital adalah penyakit menular seksual pada pria dan wanita, yang ditandai dengan luka lepuh di area kelamin. Namun, herpes genital juga terkadang tidak menimbulkan gejala apa pun sehingga kondisi ini sering tidak disadari oleh penderitanya. Herpes genital atau herpes simpleks adalah penyakit yang disebabkan oleh infeksi virus. Penyakit ini paling sering menular melalui hubungan seks dengan orang yang terinfeksi virus ini. Selain itu, herpes genital juga dapat menular dari ibu hamil ke janinnya.\"},{\"Condition\":\"Gout, Acute\",\"Deskripsi\":\"Penyakit asam urat atau gout adalah salah satu jenis radang sendi yang terjadi karena adanya penumpukan kristal asam urat. Kondisi ini dapat terjadi pada sendi mana pun, seperti di jari kaki, pergelangan kaki, lutut, dan paling sering di jempol kaki. Pirai akut adalah fase akut dari penyakit asam urat, yakni timbul gejala-gejala nyeri sendi yang hebat, sendi tampak bengkak, merah, panas, kaku atau sulit digerakan, dan kadang badan terasa demam.\"},{\"Condition\":\"Motion Sickness\",\"Deskripsi\":\"Mabuk adalah suatu keadaan fisik dan mental yang tidak nyaman dan biasanya muncul setelah konsumsi alkohol baik dalam jumlah besar maupun sedikit. Tanda-tanda dari mabuk antara lain merasa sangat lelah, sakit kepala, meningkatnya sensitivitas terhadap cahaya dan suara, mata merah, dan sakit pada otot tubuh.\"},{\"Condition\":\"Multiple Sclerosis\",\"Deskripsi\":\"Penyakit sklerosis ganda atau multiple sclerosis adalah gangguan saraf pada otak, mata, dan tulang belakang. Multiple sclerosis akan menimbulkan gangguan pada penglihatan dan gerakan tubuh. Saat terjadi multiple sclerosis, sistem kekebalan tubuh menyerang lapisan lemak yang melindungi serabut saraf (mielin). Hal ini menyebabkan gangguan komunikasi antara otak dan seluruh tubuh. Jika tidak segera ditangani, sklerosis ganda dapat menyebabkan penurunan atau kerusakan saraf permanen.\"},{\"Condition\":\"Autism\",\"Deskripsi\":\"Autisme adalah kelainan perkembangan saraf yang menyebabkan gangguan perilaku dan interaksi sosial. Gejala yang dapat dialami oleh penderita autisme antara lain: Gangguan komunikasi dan interaksi sosial, seperti lebih senang menyendiri, enggan berbicara dengan orang lain, dan sering mengulang kata yang sama. Gangguan perilaku, seperti melakukan gerakan yang sama secara berulang, misalnya selalu berjalan dengan berjinjit. Gangguan lain, seperti gangguan kognitif yang menghambat belajar, gangguan mood atau reaksi emosional, dan kejang.\"},{\"Condition\":\"Otitis Media\",\"Deskripsi\":\"Otitis media adalah infeksi pada telinga bagian tengah, tepatnya pada rongga di belakang gendang telinga. Infeksi telinga bagian tengah ini, sering kali timbul akibat batuk pilek, flu, atau alergi sebelumnya. Gejala otitis media cenderung muncul mendadak dan berkembang dengan cepat. Gejala tersebut antara lain berupa sakit di telinga, keluar cairan dari telinga, kesulitan mendengar, sakit kepala, dan telinga bau.\"},{\"Condition\":\"Upper Respiratory Tract Infection\",\"Deskripsi\":\"Infeksi saluran pernapasan adalah infeksi yang bisa menyerang setiap bagian saluran pernapasan. Infeksi saluran pernapasan bisa disebabkan oleh bakteri atau virus. Infeksi yang terjadi pada rongga hidung, sinus, dan tenggorokan, merupakan bagian dari infeksi saluran napas atas. Saat seseorang mengalami infeksi saluran pernapasan akan muncul keluhan dan gejala berupa batuk, bersin-bersin, hidung tersumbat, pilek, dan sakit tenggorokan. Beberapa gejala lain yang bisa dialami oleh penderita infeksi saluran napas adalah sesak napas, keringat di malam hari, dan turunnya kemampuan indera penciumanan.\\\\n\"},{\"Condition\":\"Psoriatic Arthritis\",\"Deskripsi\":\"Psoriasis arthritis adalah radang sendi yang menyerang penderita psoriasis. Meskipun sebagian besar kasus psoriasis arthritis diawali dengan psoriasis, tetapi psoriasis arthritis juga bisa terjadi sebelum gejala psoriasis muncul. Gejala psoriasis arthritis berkembang dalam jangka panjang dan dapat memburuk seiring waktu. Adapun tingkat keparahan gejala yang muncul pada tiap pasien bisa berbeda-beda. Beberapa gejala psoriasis arthritis adalah sendi terasa kaku dan memburuk di pagi hari, bengkak dan nyeri sendi.\"},{\"Condition\":\"Nausea\\\\/Vomiting\",\"Deskripsi\":\"Mual adalah rasa ingin muntah dan tidak nyaman di perut. Meski begitu, mual tidak selalu disertai dengan muntah. Mual bukan suatu penyakit, melainkan gejala yang disebabkan oleh kondisi tertentu. Penyebab mual bermacam-macam, baik goncangan, keracunan makanan, pengaruh obat atau hormon, maupun karena masa awal kehamilan. Muntah adalah kondisi ketika isi lambung keluar secara paksa melalui mulut. Berbeda dari regurgitasi atau keluarnya isi lambung tanpa kontraksi, muntah disertai kontraksi pada lambung dan otot perut.\"},{\"Condition\":\"Prostatitis\",\"Deskripsi\":\"Prostatitis adalah peradangan pada kelenjar prostat yang bisa terjadi tiba-tiba (akut) atau berkembang secara bertahap dalam waktu yang lama (kronis). Prostatitis biasanya ditandai dengan nyeri dan kesulitan buang air kecil.\"},{\"Condition\":\"mance Anxiety\",\"Deskripsi\":null},{\"Condition\":\"Nasal Congestion\",\"Deskripsi\":\"Nasal Congestion (Hidung tersumbat) terjadi ketika hidung dan jaringan di sekitarnya serta pembuluh darah menjadi bengkak karena kelebihan cairan yang menyebabkan tersumbat. Hidung tersumbat mungkin mengkibatkan keluarnya cairan dari hidung atau biasa dikenal \\\\\"hidung meler.\\\\\" Hidung tersumbat dapat menyerang anak-anak dan orang dewasa. Tapi hidung tersumbat bisa serius bagi anak-anak yang tidurnya terganggu oleh hidung tersumbat, atau untuk bayi, yang mungkin mengalami kesulitan makan \"},{\"Condition\":\"Benign Essential Trem\",\"Deskripsi\":\"Benign Essential Trem (Tremor esensial) adalah gangguan sistem saraf (neurologis) yang menyebabkan gemetar yang tidak disengaja dan berirama. Ini dapat mempengaruhi hampir semua bagian tubuh Anda dan gemetar paling sering terjadi di tangan terutama ketika sedang melakukan tugas-tugas sederhana, seperti minum dari gelas atau mengikat tali sepatu. Tremor esensial biasanya bukan kondisi yang berbahaya, tetapi biasanya memburuk dari waktu ke waktu dan bisa semakin parah pada beberapa orang. Tremor esensial dapat terjadi pada semua usia tetapi paling sering terjadi pada orang berusia 40 tahun ke atas\"},{\"Condition\":\"Angina\",\"Deskripsi\":\"Angina adalah nyeri dada yang disebabkan oleh berkurangnya aliran darah ke otot jantung. Biasanya Angina tidak mengancam jiwa, tetapi ini adalah tanda peringatan bahwa penderita berisiko terkena serangan jantung atau stroke.\"},{\"Condition\":\"Post Traumatic Stress Disorde\",\"Deskripsi\":\"Gangguan stres pasca-trauma (PTSD) adalah kondisi kesehatan mental yang dipicu oleh peristiwa menakutkan - baik mengalaminya atau menyaksikannya. Gejala mungkin termasuk kilas balik, mimpi buruk dan kecemasan parah, serta pikiran tak terkendali tentang peristiwa tersebut.\"},{\"Condition\":\"Alcohol Withdrawal\",\"Deskripsi\":\"Alcohol withdrawal merupakan gejala yang terjadi ketika seseorang berhenti menggunakan alkohol setelah periode tertentu. Gejala Alcohol withdrawal dapat sangat bervariasi dalam tingkat keparahan. Dalam kasus yang parah, kondisi ini dapat mengancam jiwa.\"},{\"Condition\":\"Psoriasis\",\"Deskripsi\":\"Psoriasis adalah penyakit kulit yang menyebabkan ruam dengan bercak gatal dan bersisik, paling sering pada lutut, siku, batang tubuh, dan kulit kepala. Psoriasis dapat menyakitkan, mengganggu tidur dan membuat sulit berkonsentrasi. Kondisi tersebut cenderung melalui siklus, melebar selama beberapa minggu atau bulan, kemudian mereda untuk sementara waktu. Pemicu umum pada orang dengan kecenderungan genetik untuk psoriasis termasuk infeksi, luka atau luka bakar, dan obat-obatan tertentu.\"},{\"Condition\":\"Cold Sores\",\"Deskripsi\":\"Cold Sores atau yang juga disebut lepuh demam adalah infeksi virus yang umum. Mereka adalah lepuh kecil berisi cairan di dan di sekitar bibir. Lepuh ini sering dikelompokkan bersama dalam tambalan. Setelah lepuh pecah, terbentuk keropeng yang bisa bertahan beberapa hari. Luka dingin biasanya sembuh dalam dua hingga tiga minggu tanpa meninggalkan bekas.\"},{\"Condition\":\"Hyperhidrosis\",\"Deskripsi\":\"Hiperhidrosis adalah keringat berlebih yang tidak normal yang tidak selalu berhubungan dengan panas atau olahraga. Selain mengganggu aktivitas normal sehari-hari, jenis keringat berlebih ini dapat menyebabkan kecemasan sosial dan rasa malu.\"},{\"Condition\":\"Ankylosing Spondylitis\",\"Deskripsi\":\"Ankylosing spondylitis adalah penyakit peradangan yang seiring waktu dapat menyebabkan beberapa tulang di tulang belakang (vertebra) menyatu. Sekering ini membuat tulang belakang kurang fleksibel dan dapat mengakibatkan postur membungkuk. Jika tulang rusuk terpengaruh, akan sulit untuk bernapas dalam-dalam.\"},{\"Condition\":\"Hemorrhoids\",\"Deskripsi\":\"Wasir atau hemoroid adalah pembengkakan atau pembesaran pada pembuluh darah di bagian akhir usus besar (rektum) dan anus. Wasir dapat terjadi di segala usia, tetapi lebih sering dialami oleh orang usia 50 tahun atau lebih.\"},{\"Condition\":\"Schizoaffective Disorder\",\"Deskripsi\":\"Gangguan skizoafektif adalah gangguan kesehatan mental yang ditandai dengan kombinasi gejala skizofrenia, seperti halusinasi atau delusi, dan gejala gangguan mood, seperti depresi atau mania.\"},{\"Condition\":\"Not Listed \\\\/ Other\",\"Deskripsi\":null},{\"Condition\":\"Rhinitis\",\"Deskripsi\":\"Rinitis alergi disebabkan oleh sistem kekebalan tubuh yang bereaksi terhadap alergen seolah-olah itu berbahaya. Hal ini menyebabkan sel melepaskan sejumlah bahan kimia yang menyebabkan lapisan dalam hidung Anda (selaput lendir) menjadi bengkak dan terlalu banyak lendir yang akan diproduksi.\"},{\"Condition\":\"Osteoporosis\",\"Deskripsi\":\"Osteoporosis adalah kondisi kesehatan yang melemahkan tulang, membuatnya rapuh dan lebih mudah patah. Ini berkembang perlahan selama beberapa tahun dan seringkali hanya didiagnosis ketika jatuh atau benturan tiba-tiba menyebabkan tulang patah (fraktur).\"},{\"Condition\":\"Urticaria\",\"Deskripsi\":\"Gatal-gatal (Urticaria) merupakan bekas gatal berwarna merah akibat reaksi kulit. Bekasnya bervariasi dalam ukuran dan muncul dan memudar berulang kali saat reaksi berjalan dengan sendirinya.Kondisi ini dianggap gatal-gatal kronis jika bekasnya muncul selama lebih dari enam minggu dan sering kambuh selama berbulan-bulan atau bertahun-tahun\"},{\"Condition\":\"Narcolepsy\",\"Deskripsi\":\"Narkolepsi adalah gangguan tidur kronis yang ditandai dengan rasa kantuk yang berlebihan di siang hari dan serangan tidur yang tiba-tiba. Orang dengan narkolepsi sering merasa sulit untuk tetap terjaga untuk waktu yang lama, terlepas dari keadaannya. Narkolepsi dapat menyebabkan gangguan serius dalam rutinitas harian penderita.\"},{\"Condition\":\"Systemic Lupus Erythematosus\",\"Deskripsi\":\"Lupus eritematosus sistemik (LES), adalah jenis lupus yang paling umum. SLE adalah penyakit autoimun di mana sistem kekebalan tubuh menyerang jaringannya sendiri, menyebabkan peradangan yang meluas dan kerusakan jaringan pada organ yang terkena. Ini dapat mempengaruhi persendian, kulit, otak, paru-paru, ginjal, dan pembuluh darah.\"},{\"Condition\":\"Ulcerative Colitis\",\"Deskripsi\":\"Ulcerative Colitis adalah penyakit radang usus (IBD) yang menyebabkan peradangan dan borok (luka) di saluran pencernaan Anda. Kolitis ulserativa mempengaruhi lapisan terdalam dari usus besar (kolon) dan rektum Anda. Gejala biasanya berkembang dari waktu ke waktu, bukan tiba-tiba.\"},{\"Condition\":\"Bacterial Vaginitis\",\"Deskripsi\":\"Bacterial vaginosis adalah jenis peradangan vagina yang disebabkan oleh pertumbuhan berlebih dari bakteri yang secara alami ditemukan di vagina, yang mengganggu keseimbangan alami. Wanita di usia reproduksi paling mungkin terkena bakterial vaginosis, tetapi bisa menyerang wanita dari segala usia\"},{\"Condition\":\"COPD, Maintenance\",\"Deskripsi\":\"Chronic obstructive pulmonary disease (COPD) mengacu pada sekelompok gangguan yang merusak paru-paru, membuat pernapasan meningkat dari waktu ke waktu. Pemeliharaan COPD mengacu pada sejauh mana pasien melanjutkan praktik kesehatan yang baik tanpa pengawasan, memasukkannya ke dalam gaya hidup umum.\"},{\"Condition\":\"Anorexia\",\"Deskripsi\":\"Anoreksia atau yang dikenal dengan Anoreksia nervosa adalah gangguan makan yang ditandai dengan berat badan yang sangat rendah, rasa takut yang berlebihan pada kenaikan berat badan, dan persepsi yang salah terhadap berat badan. Anoreksia nervosa termasuk gangguan mental yang serius dan tidak boleh didiamkan.\"},{\"Condition\":\"Cough and Nasal Congestion\",\"Deskripsi\":\"Batuk adalah respons alami tubuh untuk mengeluarkan zat dan partikel dari dalam saluran pernapasan agar tidak masuk ke saluran napas bawah. Batuk juga dapat menandakan kondisi lain, mulai dari asma sampai kanker paru-paru.. Hidung tersumbat adalah kondisi ketika udara tidak dapat masuk dengan lancar ke dalam hidung sehingga mengganggu proses pernapasan. Kondisi ini juga dapat disertai dengan hidung berair.\"},{\"Condition\":\"Inflammatory Conditions\",\"Deskripsi\":\"Peradangan adalah proses dimana sel darah putih tubuh dan hal-hal yang melindungi penderita dari infeksi eksternal, seperti bakteri dan virus. Peradangan dapat berlangsung singkat (akut) atau tahan lama (kronis). Peradangan akut hilang dalam beberapa jam atau hari. Peradangan kronis dapat berlangsung berbulan-bulan atau bertahun-tahun, bahkan setelah pemicu pertama hilang.\"},{\"Condition\":\"Urinary Incontinence\",\"Deskripsi\":\"Inkontinensia urine adalah kondisi ketika seseorang sulit menahan buang air kecil sehingga mengompol. Inkontinensia urine umumnya dialami oleh lansia, dan lebih sering dialami oleh wanita dibandingkan pria.\"},{\"Condition\":\"Gout\",\"Deskripsi\":\"Penyakit asam urat atau gout adalah salah satu jenis radang sendi yang terjadi karena adanya penumpukan kristal asam urat. Kondisi ini dapat terjadi pada sendi mana pun, seperti di jari kaki, pergelangan kaki, lutut, dan paling sering di jempol kaki.\"},{\"Condition\":\"Bladder Infection\",\"Deskripsi\":\"Infeksi kandung kemih adalah penyakit infeksi yang menyerang kandung kemih. Penyakit ini sering ditandai dengan rasa sakit saat buang air kecil.\"},{\"Condition\":\"Strep Throat\",\"Deskripsi\":\"Sakit tenggorokan adalah rasa nyeri, gatal, tidak nyaman, atau kering pada tenggorokan. Kondisi ini merupakan gejala yang bisa timbul akibat beragam gangguan atau penyakit, dan salah satunya adalah infeksi virus. Sakit tenggorokan biasanya akan makin berat saat makan dan minum.\"},{\"Condition\":\"Bacterial Skin Infection\",\"Deskripsi\":\"Infeksi kulit bakteri sering dimulai sebagai benjolan merah kecil yang perlahan membesar. Beberapa infeksi bakteri ringan dan mudah diobati dengan antibiotik topikal, tetapi infeksi lain memerlukan antibiotik oral.\"},{\"Condition\":\"Cold Symptoms\",\"Deskripsi\":\"Pilek adalah kondisi ketika hidung mengeluarkan ingus atau lendir, baik sesekali maupun terus-menerus. Lendir yang keluar dapat terlihat bening, hijau, atau kekuningan. Sedangkan teksturnya bisa encer atau kental, tergantung pada penyebab yang mendasarinya.\"},{\"Condition\":\"Dry Skin\",\"Deskripsi\":\"Xerosis atau kulit kering adalah kondisi ketika lapisan terluar kulit (epidermis) kekurangan kadar air secara berlebihan. Hal ini menyebabkan kulit kehilangan kelembapan yang cukup untuk mempertahankan kelembutan dan elastisitasnya.\"},{\"Condition\":\"Borderline Personality Disorder\",\"Deskripsi\":\"Borderline personality disorder (BPD) atau gangguan kepribadian ambang adalah gangguan mental serius yang memengaruhi perasaan dan cara berpikir penderitanya. Kondisi ini ditandai dengan suasana hati dan citra diri yang senantiasa berubah-ubah dan sulit dikontrol, serta perilaku yang impulsif.\"},{\"Condition\":\"Amenorrhea\",\"Deskripsi\":\"Amenorrhea adalah kondisi tidak terjadinya menstruasi atau tidak haid. Kondisi ini bisa dibagi menjadi 2 jenis, yaitu amenorrhea primer dan sekunder. Amenorrhea perlu mendapat penanganan karena bisa menjadi tanda dari penyakit yang serius. Salah satunya tumor pada kelenjar pituitari.\"},{\"Condition\":\"Pneumonia\",\"Deskripsi\":\"Pneumonia adalah peradangan paru-paru yang disebabkan oleh infeksi. Pneumonia bisa menimbulkan gejala yang ringan hingga berat. Beberapa gejala yang umum dialami penderita pneumonia adalah batuk berdahak, demam, dan sesak napas.\"},{\"Condition\":\"Interstitial Cystitis\",\"Deskripsi\":\"Interstitial Cystitis merupakan kondisi kronis yang menyebabkan tekanan kandung kemih, nyeri kandung kemih, dan terkadang nyeri panggul. Rasa sakitnya berkisar dari ketidaknyamanan ringan hingga rasa sakit yang parah. Kondisi ini merupakan bagian dari spektrum penyakit yang dikenal sebagai sindrom kandung kemih.\"},{\"Condition\":\"Plaque Psoriasis\",\"Deskripsi\":\"Plaque Psoriasis merupakan jenis psoriasis yang paling umum, merupakan psoriasis plak yang menyebabkan kulit kering, gatal, bercak (plak) yang ditutupi dengan sisik. Biasanya muncul di siku, lutut, punggung bawah dan kulit kepala. Bercak bervariasi dalam warna, tergantung pada warna kulit.\"},{\"Condition\":\"Prostate Cancer\",\"Deskripsi\":\"Kanker prostat adalah kanker pada pria yang berkembang di dalam kelenjar prostat, dan umumnya ditandai dengan gangguan buang air kecil. Sebagian besar penderita kanker prostat berusia di atas 65 tahun. Kanker ini tidak bersifat agresif dan berkembang secara perlahan.\"},{\"Condition\":\"Allergies\",\"Deskripsi\":\"Alergi adalah reaksi dari sistem kekebalan tubuh manusia (sistem imun) terhadap zat tertentu yang seharusnya tidak berbahaya. Reaksi tersebut dapat menimbulkan berbagai gejala, seperti pilek, ruam kulit yang gatal, atau bahkan sesak napas.\"},{\"Condition\":\"moterol\",\"Deskripsi\":null},{\"Condition\":\"Diarrhea\",\"Deskripsi\":\"Diare adalah penyakit yang membuat penderitanya menjadi sering buang air besar dengan kondisi tinja yang encer atau berair. Diare umumnya terjadi akibat mengonsumsi makanan dan minuman yang terkontaminasi virus, bakteri, atau parasit.\"},{\"Condition\":\"Obstructive Sleep Apnea\\\\/Hypopnea Syndrome\",\"Deskripsi\":\"Apnea tidur atau sleep apnea adalah gangguan tidur yang menyebabkan pernapasan seseorang terhenti sementara selama beberapa kali saat sedang tidur. Kondisi ini dapat ditandai dengan mengorok saat tidur dan tetap merasa mengantuk setelah tidur lama.\"},{\"Condition\":\"Nausea\\\\/Vomiting of Pregnancy\",\"Deskripsi\":\"Nausea atau yang lebih dikenal dengan Morning sickness adalah mual muntah yang terjadi saat hamil. Meski disebut morning sickness, kondisi ini tidak hanya terjadi pada pagi hari, tetapi juga di siang, sore, atau malam hari.\"},{\"Condition\":\"Ulcerative Colitis, Active\",\"Deskripsi\":\"Kolitis ulseratif atau ulcerative colitis adalah peradangan pada usus besar (kolon) dan bagian akhir usus besar yang tersambung ke anus (rektum). Kondisi ini sering kali ditandai dengan diare yang terus menerus, disertai darah atau nanah pada tinja.\"},{\"Condition\":\"Tonsillitis\\\\/Pharyngitis\",\"Deskripsi\":\"Faringitis adalah peradangan pada tenggorokan atau faring. Kondisi yang juga disebut dengan radang tenggorokan ini ditandai dengan tenggorokan nyeri, gatal, dan sakit saat menelan.\"},{\"Condition\":\"Parkinson\\'s Disease\",\"Deskripsi\":\"Penyakit Parkinson adalah penyakit pada sistem saraf yang mengganggu kemampuan tubuh dalam mengontrol gerakan dan keseimbangan. Kondisi ini menimbulkan beragam keluhan, seperti tremor, kaku otot, hingga gangguan koordinasi.\"},{\"Condition\":\"Sciatica\",\"Deskripsi\":\"Sciatica atau Linu panggul mengacu pada rasa sakit yang menyebar di sepanjang jalur saraf siatik, yang bercabang dari punggung bawah melalui pinggul dan bokong dan turun ke setiap kaki. Biasanya, linu panggul hanya mempengaruhi satu sisi tubuh Anda.\"},{\"Condition\":\"Keratosis\",\"Deskripsi\":null},{\"Condition\":\"Ovarian Cysts\",\"Deskripsi\":\"Kista ovarium adalah kantong berisi cairan yang tumbuh pada indung telur (ovarium) wanita. Kista ini biasanya muncul selama masa subur atau selama wanita mengalami menstruasi.\"},{\"Condition\":\"Chronic Fatigue Syndrome\",\"Deskripsi\":\"Chronic fatigue syndrome (CFS) adalah gangguan rumit yang ditandai dengan kelelahan ekstrem yang berlangsung setidaknya selama enam bulan dan tidak dapat sepenuhnya dijelaskan oleh kondisi medis yang mendasarinya. Kelelahan memburuk dengan aktivitas fisik atau mental, tetapi tidak membaik dengan istirahat\"},{\"Condition\":\"Crohn\\'s Disease, Maintenance\",\"Deskripsi\":\"Crohn\\\\u2019s disease adalah peradangan pada lapisan dinding sistem pencernaan. Peradangan ini bisa terjadi mulai dari mulut hingga anus, tetapi lebih sering terjadi di bagian usus halus dan usus besar (kolon).\"},{\"Condition\":\"Diabetic Peripheral Neuropathy\",\"Deskripsi\":\"Neuropati diabetik adalah jenis kerusakan saraf yang dapat terjadi jika Anda menderita diabetes. Gula darah tinggi (glukosa) dapat melukai saraf di seluruh tubuh. Neuropati diabetik paling sering merusak saraf di tungkai dan kaki.\\\\n\\\\nDiabetic Peripheral Neuropathy merupakan jenis neuropati diabetes yang paling umum. Ini mempengaruhi kaki dan tungkai, diikuti oleh tangan dan lengan. Tanda dan gejala neuropati perifer seringkali lebih buruk di malam hari, dan mungkin termasuk:\\\\n\\\\n-Mati rasa atau berkurangnya kemampuan untuk merasakan sakit atau perubahan suhu\\\\n\\\\n-Perasaan kesemutan atau terbakar\\\\n\\\\n-Sakit atau kram yang tajam\\\\n\\\\n-Kelemahan otot\\\\n\\\\n-Sensitivitas yang ekstrem terhadap sentuhan \\\\u2014 bagi sebagian orang, bahkan berat seprai bisa menyakitkan\\\\n\\\\n-Masalah kaki yang serius, seperti bisul, infeksi, dan kerusakan tulang dan sendi\"},{\"Condition\":\"Arrhythmia\",\"Deskripsi\":\"Aritmia adalah gangguan yang terjadi pada irama jantung. Penderita aritmia bisa merasakan irama jantungnya terlalu cepat, terlalu lambat, atau tidak teratur.\"},{\"Condition\":\"Heart Failure\",\"Deskripsi\":\"Gagal jantung adalah kondisi ketika jantung melemah sehingga tidak mampu memompa darah yang cukup ke seluruh tubuh. Kondisi ini dapat terjadi pada siapa saja, tetapi lebih sering terjadi pada orang berusia di atas 65 tahun.\"},{\"Condition\":\"Opiate Withdrawal\",\"Deskripsi\":\"Opiat atau Opioid adalah obat yang digunakan untuk mengatasi nyeri. Istilah narkotika mengacu pada salah satu jenis obat. Opioid withdrawal adalah gejala yang terjadi ketika pasien berhenti minum obat opioid setelah tubuh pasien menjadi ketergantungan\"},{\"Condition\":\"Alopecia\",\"Deskripsi\":\"Alopecia areata adalah kebotakan atau kerontokan rambut yang disebabkan oleh penyakit autoimun. Pada alopecia areata, sistem imun menyerang dan merusak akar rambut sehingga menyebabkan kerontokan dan kebotakan. Kulit kepala yang botak dengan bentuk pitak adalah salah satu tanda dari kondisi ini.\"},{\"Condition\":\"Premenstrual Dysphoric Disorder\",\"Deskripsi\":\"Premenstrual dysphoric disorder (PMDD) adalah gangguan terkait emosi dan fisik yang dialami wanita sebelum masa menstruasi. Gangguan ini merupakan bentuk yang lebih parah dari premenstrual syndrome (PMS) atau sindrom pramenstruasi.\"},{\"Condition\":\"Alcohol Dependence\",\"Deskripsi\":\"Ketergantungan alkohol mengacu pada reaksi tidak dapat berhenti minum tanpa mengalami gejala dari berhenti mengkonsumsi alkohol. Penderita akan sering meminum lebih banyak alkohol untuk meringankan gejala yang ditimbulkan.\"},{\"Condition\":\"Social Anxiety Disorder\",\"Deskripsi\":\"Gangguan kecemasan sosial atau fobia sosial adalah ketakutan akan situasi sosial yang melibatkan interaksi dengan orang lain.\"},{\"Condition\":\"Atopic Dermatitis\",\"Deskripsi\":\"Dermatitis atopik adalah penyakit kulit yang ditandai dengan kulit kering, gatal secara terus-menerus, dan ruam merah di kulit. Kondisi ini dapat muncul pada satu atau beberapa bagian tubuh, dan umumnya terjadi di wajah, lengan, dan kaki.\"},{\"Condition\":\"Sinus Symptoms\",\"Deskripsi\":\"Sinusitis adalah peradangan di lapisan sinus, yang umumnya ditandai dengan pilek, hidung tersumbat, dan nyeri di area wajah. Kondisi ini bisa berlangsung dalam hitungan minggu, bulan, atau bahkan tahun.\\\\n\\\\nBaik sinusitis akut maupun sinusitis kronis dapat menimbulkan gejala serupa, yaitu pilek, hidung tersumbat, nyeri di bagian wajah, dan penurunan kemampuan indra penciuman.\"},{\"Condition\":\"Dermatitis\",\"Deskripsi\":\"Dermatitis atau eksim merupakan penyakit kulit yang umumnya bersifat kronis (jangka panjang) tetapi tidak berbahaya. Gejala yang muncul pun biasanya ringan, misalnya gatal pada kulit. Namun, rasa gatal ini kadang membuat penderitanya sulit menahan diri untuk tidak menggaruk terus-menerus hingga menimbulkan cedera pada kulit. Macam-macam dermatitis antara lain dermatitis atopik, dermatitis kontak, dermatitis dishidrotik, dermatitis numularis, neurodermatitis, dermatitis stasis, dan dermatitis seboroik.\"},{\"Condition\":\"Seizure Prevention\",\"Deskripsi\":\"Kejang adalah gangguan aktivitas listrik di otak yang terjadi secara spontan. Kondisi ini umumnya ditandai dengan gerakan tubuh yang tidak terkendali, bahkan bisa menyebabkan penurunan kesadaran. Kejang bisa menjadi gejala penyakit otak atau kondisi lain yang memengaruhi otak.\\\\n\\\\nSecara umum, tidak ada cara yang dapat mencegah kejang. Meski demikian, ada beberapa upaya yang bisa dilakukan untuk menurunkan risiko terkena kondisi ini, yaitu:\\\\n\\\\nBeristirahat dan tidur malam yang cukup\\\\nMengonsumsi makanan bergizi seimbang\\\\nBerolahraga secara rutin\\\\nMengelola stres dengan baik\\\\nTidak menggunakan NAPZA\\\\nMenjalani pengobatan untuk kondisi medis yang sedang diderita\"},{\"Condition\":\"Peripheral Neuropathy\",\"Deskripsi\":\"Neuropati perifer adalah penyakit akibat kerusakan pada sistem saraf perifer atau sistem saraf tepi. Kerusakan tersebut menyebabkan terganggunya fungsi saraf tepi dalam mengirimkan sinyal dari organ ke otak atau sebaliknya.\"},{\"Condition\":\"Deep Vein Thrombosis\",\"Deskripsi\":\"Deep vein thrombosis (DVT) atau trombosis vena dalam adalah penggumpalan darah pada satu atau lebih pembuluh darah vena dalam. Pada sebagian besar kasus, DVT terbentuk di pembuluh darah paha atau betis, tetapi bisa juga terbentuk di pembuluh darah bagian tubuh lain.\"},{\"Condition\":\"Postpartum Depression\",\"Deskripsi\":\"Beberapa ibu baru mengalami baby blues, namun depresi yang lebih parah dan bertahan lama yang dikenal sebagai depresi pascapersalinan. Depresi pascapersalinan bukanlah sebuah kelemahan. Terkadang itu hanya komplikasi melahirkan. \"},{\"Condition\":\"Edema\",\"Deskripsi\":\"Edema adalah penumpukan cairan dalam jaringan tubuh. Edema paling sering terjadi di kaki atau lengan. Namun, kondisi ini juga dapat terjadi di bagian tubuh lainnya, seperti perut dan wajah.\"},{\"Condition\":\"Prevention of Thromboembolism in Atrial Fibrillation\",\"Deskripsi\":null},{\"Condition\":\"Cluster Headaches\",\"Deskripsi\":\"Sakit kepala cluster atau cluster headache adalah jenis nyeri kepala yang bisa terjadi secara berulang, dengan siklus atau periode tertentu. Sakit kepala ini umumnya datang secara tiba-tiba di sekitar mata pada salah satu sisi kepala, dan menyebabkan nyeri yang sangat berat\"},{\"Condition\":\"Dry Eye Disease\",\"Deskripsi\":\"Sindrom mata kering adalah kondisi ketika mata tidak mendapatkan pelumasan yang cukup dari air mata. Kondisi ini dapat menyebabkan rasa tidak nyaman di mata, bahkan bisa merusak permukaan bola mata.\"},{\"Condition\":\"Allergic Reactions\",\"Deskripsi\":\"Alergi adalah reaksi dari sistem kekebalan tubuh manusia (sistem imun) terhadap zat tertentu yang seharusnya tidak berbahaya. Reaksi tersebut dapat menimbulkan berbagai gejala, seperti pilek, ruam kulit yang gatal, atau bahkan sesak napas.\"},{\"Condition\":\"Muscle Pain\",\"Deskripsi\":\"Myalgia adalah istilah medis yang digunakan untuk menyebut nyeri otot. Meski biasanya ringan dan hanya terjadi di satu otot tertentu, nyeri otot juga bisa terasa di seluruh bagian tubuh dan sangat menyiksa. Nyeri otot bukanlah suatu penyakit, tetapi gejala dari suatu penyakit atau kondisi. Penyebabnya sangat beragam, mulai dari postur tubuh atau gerakan olahraga yang tidak tepat, cedera otot, infeksi, hingga efek samping obat-obatan.\"},{\"Condition\":\"Urinary Tract Stones\",\"Deskripsi\":\"Penyakit batu ginjal atau nefrolitiasis adalah kondisi akibat terbentuknya endapan padat di dalam ginjal yang berasal dari zat kimia dalam urine. Ukuran batu ginjal bisa mulai dari sekecil butiran pasir hingga sebesar kacang polong.\"},{\"Condition\":\"Dietary Supplementation\",\"Deskripsi\":\"Dietary supplementation merupakan pendekatan yang dilakukan untuk memerangi obesitas, karena dapat berkontribusi pada penurunan berat badan dan mengurangi beberapa risiko terkait, bahkan tanpa perubahan dalam konsumsi makronutrien.\"},{\"Condition\":\"Renal Cell Carcinoma\",\"Deskripsi\":\"Kanker ginjal adalah kondisi ketika terjadi pertumbuhan sel-sel secara abnormal dan tak terkendali di ginjal. Kanker ginjal merupakan salah satu jenis kanker yang umum terjadi. Meski bisa dialami oleh siapa saja, kanker ginjal paling sering terjadi pada orang yang berusia 50 tahun ke atas.\"},{\"Condition\":\"COPD\",\"Deskripsi\":\"Penyakit paru obstruktif kronis (PPOK) adalah peradangan pada paru-paru yang berkembang dalam jangka panjang. PPOK umumnya ditandai dengan sulit bernapas, batuk berdahak, dan mengi (bengek). Dua kondisi yang paling sering berkembang menjadi PPOK adalah bronkitis kronis dan emfisema. Pada bronkitis kronis, kerusakan terjadi pada saluran bronkus, sedangkan pada emfisema kerusakan terjadi pada alveolus.\"},{\"Condition\":\"Vertigo\",\"Deskripsi\":\"Vertigo adalah kondisi yang membuat penderitanya mengalami pusing hingga merasa dirinya atau sekelilingnya berputar. Meski sering kali dianggap sebagai suatu penyakit, vertigo sebenarnya merupakan gejala dari penyakit atau kondisi lain.\"},{\"Condition\":\"Supraventricular Tachycardia\",\"Deskripsi\":\"Takikardia supraventrikular (SVT) adalah detak jantung yang cepat atau tidak teratur (aritmia) yang mempengaruhi bilik atas jantung. SVT juga disebut takikardia supraventrikular paroksismal. \"},{\"Condition\":\"Binge Eating Disorder\",\"Deskripsi\":\"Binge eating disorder (BED) adalah gangguan makan serius yang ditandai dengan keinginan mengonsumsi makanan dalam jumlah besar dan tidak bisa mengendalikan keinginan tersebut. Hal ini akan menimbulkan perasaan tidak nyaman dan diikuti oleh perasaan bersalah pada penderitanya.\"},{\"Condition\":\"Alzheimer\\'s Disease\",\"Deskripsi\":\"Penyakit Alzheimer adalah penyakit otak yang menyebabkan penurunan daya ingat, menurunnya kemampuan berpikir dan berbicara, serta perubahan perilaku. Penyakit ini bisa memburuk seiring waktu sehingga membuat penderitanya tidak mampu lagi melakukan pekerjaan sehari-hari.\"},{\"Condition\":\"Postherpetic Neuralgia\",\"Deskripsi\":\"Neuralgia pascaherpetik adalah komplikasi herpes zoster yang paling umum. Kondisi ini mempengaruhi serabut saraf dan kulit, menyebabkan rasa sakit terbakar yang berlangsung lama setelah ruam dan lepuh herpes zoster menghilang. \"},{\"Condition\":\"Melasma\",\"Deskripsi\":\"Melasma (dikenal juga dengan chloasma) adalah jenis penyakit kulit yang ditandai dengan munculnya bercak-bercak hiperpegmentasi pada wajah. Terkadang, bercak ini juga terlihat pada daerah yang sering terpapar sinar matahari seperti leher dan lengan bawah. Gejala khas dari kondisi ini adalah munculnya bercak-bercak hiperpigmentasi berwarna coklat atau lebih gelap daripada warna kulit Anda yang biasa. Warna yang terlihat bergantung dari kedalaman pigmennya. Untuk itu, melasma terbagi menjadi tiga jenis. Di bawah ini adalah ketiga jenisnya. Epidermal, bercak memilki warna coklat tua dengan garis batas yang tegas. Dermal, bercak berwarna coklat muda atau kebiruan dengan garis tepi yang lebih kabur. Bercak ini tidak akan terlihat jelas ketika diperiksa di bawah wood\\\\u2019s lamp. Campuran,  jenis yang paling umum dari ketiganya, ditandai dengan warna bercak yang kebiruan dan coklat serta pola campuran.\"},{\"Condition\":\"Human Papilloma Virus\",\"Deskripsi\":\"Human papillomavirus atau HPV adalah virus yang dapat menyebabkan infeksi di permukaan kulit, serta berpotensi menyebabkan kanker serviks. Infeksi virus ini ditandai dengan tumbuhnya kutil pada kulit di berbagai area tubuh, seperti lengan, tungkai, mulut, serta area kelamin.\"},{\"Condition\":\"Neuralgia\",\"Deskripsi\":\"Trigeminal neuralgia adalah rasa nyeri kronis akibat gangguan pada saraf trigeminalaraf kelima dari dua belas pasang saraf yang berasal dari otak (saraf kranial). Rasa nyeri ini biasanya muncul hanya di salah satu sisi wajah dan paling sering terjadi di wajah bagian bawah dan rahang.\"},{\"Condition\":\"Premature Lab\",\"Deskripsi\":\"Kelahiran prematur adalah kelahiran yang terjadi sebelum minggu ke-37 atau lebih awal dari hari perkiraan lahir. Kondisi ini terjadi ketika kontraksi rahim mengakibatkan terbukanya leher rahim (serviks) sehingga membuat janin memasuki jalan lahir.\"}]'"
            ],
            "application/vnd.google.colaboratory.intrinsic+json": {
              "type": "string"
            }
          },
          "metadata": {},
          "execution_count": 49
        }
      ]
    },
    {
      "cell_type": "code",
      "source": [
        "# {\n",
        "#     \"result\": [\n",
        "#                   {\"name\": \"Birth Control\",\n",
        "#                    \"Description\": \"\",\n",
        "#                    \"Medicine\": [XXX, XXX]},\n",
        "#                   {\"name\": \"Menstrual Disorders\",\n",
        "#                     \"Description\": \"\"},\n",
        "#                   {\"name\": \"Menstrual Disorders\",\n",
        "#                     \"Description\": \"\"}\n",
        "#         ]\n",
        "# }"
      ],
      "metadata": {
        "id": "diqcRgkalZTQ"
      },
      "execution_count": null,
      "outputs": []
    },
    {
      "cell_type": "code",
      "source": [
        "description.info()"
      ],
      "metadata": {
        "colab": {
          "base_uri": "https://localhost:8080/"
        },
        "id": "Je2kptvKT8hl",
        "outputId": "d2f7a71b-6725-4b4c-fa9d-31062610d9d6"
      },
      "execution_count": null,
      "outputs": [
        {
          "output_type": "stream",
          "name": "stdout",
          "text": [
            "<class 'pandas.core.frame.DataFrame'>\n",
            "RangeIndex: 185 entries, 0 to 184\n",
            "Data columns (total 2 columns):\n",
            " #   Column     Non-Null Count  Dtype \n",
            "---  ------     --------------  ----- \n",
            " 0   Condition  185 non-null    object\n",
            " 1   Deskripsi  180 non-null    object\n",
            "dtypes: object(2)\n",
            "memory usage: 3.0+ KB\n"
          ]
        }
      ]
    },
    {
      "cell_type": "code",
      "source": [
        "description.fillna(\"Belum ada deskripsi\", inplace=True)"
      ],
      "metadata": {
        "id": "F6hb2TwVT_tD"
      },
      "execution_count": null,
      "outputs": []
    },
    {
      "cell_type": "code",
      "source": [
        "# description.to_pickle(\"dataset/description.pkl\")"
      ],
      "metadata": {
        "id": "io9_ooXmUFfG"
      },
      "execution_count": null,
      "outputs": []
    },
    {
      "cell_type": "code",
      "source": [
        "penyakits = penyakits.tolist()"
      ],
      "metadata": {
        "colab": {
          "base_uri": "https://localhost:8080/",
          "height": 169
        },
        "id": "Gf51DpdAVJ5-",
        "outputId": "2a01c4be-57d8-4ef8-8a0e-8ac0288ce27d"
      },
      "execution_count": null,
      "outputs": [
        {
          "output_type": "error",
          "ename": "AttributeError",
          "evalue": "ignored",
          "traceback": [
            "\u001b[0;31m---------------------------------------------------------------------------\u001b[0m",
            "\u001b[0;31mAttributeError\u001b[0m                            Traceback (most recent call last)",
            "\u001b[0;32m<ipython-input-129-06c3365a74fc>\u001b[0m in \u001b[0;36m<module>\u001b[0;34m()\u001b[0m\n\u001b[0;32m----> 1\u001b[0;31m \u001b[0mpenyakits\u001b[0m \u001b[0;34m=\u001b[0m \u001b[0mpenyakits\u001b[0m\u001b[0;34m.\u001b[0m\u001b[0mtolist\u001b[0m\u001b[0;34m(\u001b[0m\u001b[0;34m)\u001b[0m\u001b[0;34m\u001b[0m\u001b[0;34m\u001b[0m\u001b[0m\n\u001b[0m",
            "\u001b[0;31mAttributeError\u001b[0m: 'list' object has no attribute 'tolist'"
          ]
        }
      ]
    },
    {
      "cell_type": "code",
      "source": [
        "description[description['Condition'].isin(penyakits)]['Deskripsi']"
      ],
      "metadata": {
        "colab": {
          "base_uri": "https://localhost:8080/"
        },
        "id": "O0sYlYQUVYxY",
        "outputId": "568e41ab-3a33-47ab-f12a-0b788d7aee56"
      },
      "execution_count": null,
      "outputs": [
        {
          "output_type": "execute_result",
          "data": {
            "text/plain": [
              "1     Pengaturan kelahiran atau bisa disebut juga ko...\n",
              "57    Gangguan menstruasi adalah kelainan yang terja...\n",
              "61    Perdarahan uterus abnormal adalah adanya perda...\n",
              "Name: Deskripsi, dtype: object"
            ]
          },
          "metadata": {},
          "execution_count": 131
        }
      ]
    },
    {
      "cell_type": "code",
      "source": [
        "for penyakit in penyakits:\n",
        "  print(description[description['Condition'] == penyakit]['Deskripsi'].values[0])"
      ],
      "metadata": {
        "colab": {
          "base_uri": "https://localhost:8080/"
        },
        "id": "AZU8MFXbVgdu",
        "outputId": "92222400-0c70-46ec-cb8b-f246c1ce472b"
      },
      "execution_count": null,
      "outputs": [
        {
          "output_type": "stream",
          "name": "stdout",
          "text": [
            "Pengaturan kelahiran atau bisa disebut juga kontrasepsi adalah upaya yang diambil dalam mengatur dan mengontrol angka kelahiran bayi dalam masyarakat. Dalam hal ini kontrasepsi ditujukan untuk membentuk keluarga yang bahagia dan sejahtera dengan terpenuhinya semua kebutuhan kesehatan anak-anak dan anggota keluarga lainnya. \n",
            "Gangguan menstruasi adalah kelainan yang terjadi pada siklus menstruasi. Gangguan menstruasi bisa berupa perdarahan menstruasi yang terlalu banyak atau terlalu sedikit, siklus menstruasi tidak teratur, menstruasi terjadi lebih dari 7 hari, tidak menstruasi lebih dari 3 bulan, atau bahkan tidak pernah haid sama sekali. Gangguan menstruasi juga bisa disertai dengan keluhan berat, seperti nyeri dan kram parah, hingga depresi menjelang menstruasi.\n",
            "Perdarahan uterus abnormal adalah adanya perdarahan hebat atau perdarahan yang tidak biasanya dari uterus keluar melalui Miss V. Perdarahan ini dapat terjadi kapan saja saat siklus menstruasi atau di luar siklus menstruasi.\n"
          ]
        }
      ]
    },
    {
      "cell_type": "markdown",
      "source": [
        "## TEST"
      ],
      "metadata": {
        "id": "MU-nZrolexhs"
      }
    },
    {
      "cell_type": "code",
      "source": [
        "!pip install translators"
      ],
      "metadata": {
        "id": "1Fjm5lEWV0dU",
        "colab": {
          "base_uri": "https://localhost:8080/"
        },
        "outputId": "046ee4a3-230d-4fe9-d1ce-07973d0f1cae"
      },
      "execution_count": null,
      "outputs": [
        {
          "output_type": "stream",
          "name": "stdout",
          "text": [
            "Looking in indexes: https://pypi.org/simple, https://us-python.pkg.dev/colab-wheels/public/simple/\n",
            "Requirement already satisfied: translators in /usr/local/lib/python3.7/dist-packages (5.2.1)\n",
            "Requirement already satisfied: loguru>=0.6.0 in /usr/local/lib/python3.7/dist-packages (from translators) (0.6.0)\n",
            "Requirement already satisfied: requests>=2.27.1 in /usr/local/lib/python3.7/dist-packages (from translators) (2.27.1)\n",
            "Requirement already satisfied: pathos>=0.2.8 in /usr/local/lib/python3.7/dist-packages (from translators) (0.2.9)\n",
            "Requirement already satisfied: lxml>=4.8.0 in /usr/local/lib/python3.7/dist-packages (from translators) (4.8.0)\n",
            "Requirement already satisfied: PyExecJS>=1.5.1 in /usr/local/lib/python3.7/dist-packages (from translators) (1.5.1)\n",
            "Requirement already satisfied: multiprocess>=0.70.13 in /usr/local/lib/python3.7/dist-packages (from pathos>=0.2.8->translators) (0.70.13)\n",
            "Requirement already satisfied: pox>=0.3.1 in /usr/local/lib/python3.7/dist-packages (from pathos>=0.2.8->translators) (0.3.1)\n",
            "Requirement already satisfied: ppft>=1.7.6.5 in /usr/local/lib/python3.7/dist-packages (from pathos>=0.2.8->translators) (1.7.6.5)\n",
            "Requirement already satisfied: dill>=0.3.5.1 in /usr/local/lib/python3.7/dist-packages (from pathos>=0.2.8->translators) (0.3.5.1)\n",
            "Requirement already satisfied: six>=1.7.3 in /usr/local/lib/python3.7/dist-packages (from ppft>=1.7.6.5->pathos>=0.2.8->translators) (1.15.0)\n",
            "Requirement already satisfied: urllib3<1.27,>=1.21.1 in /usr/local/lib/python3.7/dist-packages (from requests>=2.27.1->translators) (1.24.3)\n",
            "Requirement already satisfied: idna<4,>=2.5 in /usr/local/lib/python3.7/dist-packages (from requests>=2.27.1->translators) (2.10)\n",
            "Requirement already satisfied: charset-normalizer~=2.0.0 in /usr/local/lib/python3.7/dist-packages (from requests>=2.27.1->translators) (2.0.12)\n",
            "Requirement already satisfied: certifi>=2017.4.17 in /usr/local/lib/python3.7/dist-packages (from requests>=2.27.1->translators) (2022.5.18.1)\n"
          ]
        }
      ]
    },
    {
      "cell_type": "code",
      "source": [
        "import translators as ts\n"
      ],
      "metadata": {
        "colab": {
          "base_uri": "https://localhost:8080/"
        },
        "id": "EfhVhRWqe2aQ",
        "outputId": "0a743243-279a-4c98-9864-9be78c05687c"
      },
      "execution_count": null,
      "outputs": [
        {
          "output_type": "stream",
          "name": "stderr",
          "text": [
            "Using United States server backend.\n"
          ]
        }
      ]
    },
    {
      "cell_type": "code",
      "source": [
        "ts.google(\"saya pusing mual-mual muntah\", to_language='en')"
      ],
      "metadata": {
        "colab": {
          "base_uri": "https://localhost:8080/",
          "height": 35
        },
        "id": "EMZpuS2nfFaL",
        "outputId": "a65f23dd-c0af-4676-fa10-08e0f5a8a434"
      },
      "execution_count": null,
      "outputs": [
        {
          "output_type": "execute_result",
          "data": {
            "text/plain": [
              "\"I'm dizzy nausea and vomiting\""
            ],
            "application/vnd.google.colaboratory.intrinsic+json": {
              "type": "string"
            }
          },
          "metadata": {},
          "execution_count": 5
        }
      ]
    },
    {
      "cell_type": "code",
      "source": [
        ""
      ],
      "metadata": {
        "id": "682rO_7mgrwL"
      },
      "execution_count": null,
      "outputs": []
    }
  ]
}