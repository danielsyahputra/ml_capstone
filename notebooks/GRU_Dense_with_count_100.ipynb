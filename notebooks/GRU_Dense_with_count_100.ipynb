{
  "nbformat": 4,
  "nbformat_minor": 0,
  "metadata": {
    "colab": {
      "name": "GRU_Dense_with_count_100",
      "provenance": [],
      "collapsed_sections": [],
      "include_colab_link": true
    },
    "kernelspec": {
      "name": "python3",
      "display_name": "Python 3"
    },
    "language_info": {
      "name": "python"
    }
  },
  "cells": [
    {
      "cell_type": "markdown",
      "metadata": {
        "id": "view-in-github",
        "colab_type": "text"
      },
      "source": [
        "<a href=\"https://colab.research.google.com/github/danielsyahputra13/ml_capstone/blob/master/notebooks/GRU_Dense_with_count_100.ipynb\" target=\"_parent\"><img src=\"https://colab.research.google.com/assets/colab-badge.svg\" alt=\"Open In Colab\"/></a>"
      ]
    },
    {
      "cell_type": "code",
      "execution_count": null,
      "metadata": {
        "id": "4uNJsgY0BDvv",
        "colab": {
          "base_uri": "https://localhost:8080/"
        },
        "outputId": "0778ed1d-40bf-44df-97ca-d50213c135f0"
      },
      "outputs": [
        {
          "output_type": "stream",
          "name": "stdout",
          "text": [
            "Mounted at /content/drive\n"
          ]
        }
      ],
      "source": [
        "from google.colab import drive\n",
        "drive.mount('/content/drive')"
      ]
    },
    {
      "cell_type": "code",
      "source": [
        "import pandas as pd\n",
        "import os\n",
        "\n",
        "os.chdir(\"/content/drive/Shareddrives/ML-Capstone/\")\n",
        "os.getcwd()"
      ],
      "metadata": {
        "colab": {
          "base_uri": "https://localhost:8080/",
          "height": 35
        },
        "id": "qsHr3cYNKQAg",
        "outputId": "ea825dc5-f5c9-4ff5-bd73-7212b183c024"
      },
      "execution_count": null,
      "outputs": [
        {
          "output_type": "execute_result",
          "data": {
            "text/plain": [
              "'/content/drive/Shareddrives/ML-Capstone'"
            ],
            "application/vnd.google.colaboratory.intrinsic+json": {
              "type": "string"
            }
          },
          "metadata": {},
          "execution_count": 2
        }
      ]
    },
    {
      "cell_type": "code",
      "source": [
        "os.listdir(\"dataset\")"
      ],
      "metadata": {
        "colab": {
          "base_uri": "https://localhost:8080/"
        },
        "id": "_97Ib3ZCKR-2",
        "outputId": "89365bc2-0d0a-4aa8-d2a5-11080f648ec8"
      },
      "execution_count": null,
      "outputs": [
        {
          "output_type": "execute_result",
          "data": {
            "text/plain": [
              "['drugsComTrain_raw.tsv',\n",
              " 'drugsComTest_raw.tsv',\n",
              " 'train.csv',\n",
              " 'test.csv',\n",
              " 'data.csv',\n",
              " 'train1.csv',\n",
              " 'test1.csv',\n",
              " 'train_cleaned.csv',\n",
              " 'test_cleaned.csv',\n",
              " 'drugsComTest_raw (1).gsheet',\n",
              " 'drugsComTest_raw.gsheet',\n",
              " 'condition.csv',\n",
              " 'inquirerbasic.csv',\n",
              " 'condition.xlsx',\n",
              " 'description.pkl',\n",
              " 'condition.gsheet']"
            ]
          },
          "metadata": {},
          "execution_count": 3
        }
      ]
    },
    {
      "cell_type": "code",
      "source": [
        "train = pd.read_csv(\"dataset/train_cleaned.csv\")\n",
        "test = pd.read_csv(\"dataset/test_cleaned.csv\")"
      ],
      "metadata": {
        "id": "H3p4N0jFKhkj"
      },
      "execution_count": null,
      "outputs": []
    },
    {
      "cell_type": "code",
      "source": [
        "train.head(3)"
      ],
      "metadata": {
        "id": "vMBrUbTeKpnl"
      },
      "execution_count": null,
      "outputs": []
    },
    {
      "cell_type": "code",
      "source": [
        "test.head(3)"
      ],
      "metadata": {
        "id": "HtABa0y1KzIT"
      },
      "execution_count": null,
      "outputs": []
    },
    {
      "cell_type": "code",
      "source": [
        "data = pd.concat([train, test])\n",
        "data.info()"
      ],
      "metadata": {
        "id": "kF_tOC5V5eGX"
      },
      "execution_count": null,
      "outputs": []
    },
    {
      "cell_type": "code",
      "source": [
        "count_df = data[['condition','review']].groupby('condition').aggregate({'review':'count'}).reset_index().sort_values('review',ascending=False)\n",
        "count_df.head()"
      ],
      "metadata": {
        "id": "AhpDzmxn35U6"
      },
      "execution_count": null,
      "outputs": []
    },
    {
      "cell_type": "code",
      "source": [
        "target_conditions = count_df[count_df['review']>=100]['condition'].values\n",
        "target_conditions.shape"
      ],
      "metadata": {
        "id": "wq7fFw125mnp"
      },
      "execution_count": null,
      "outputs": []
    },
    {
      "cell_type": "code",
      "source": [
        "data = data[data.condition.isin(target_conditions)].copy()"
      ],
      "metadata": {
        "id": "TCAhNQ_j6LCU"
      },
      "execution_count": null,
      "outputs": []
    },
    {
      "cell_type": "code",
      "source": [
        "data[data['condition'] == 'Depression']"
      ],
      "metadata": {
        "id": "MqC80cX50IGV"
      },
      "execution_count": null,
      "outputs": []
    },
    {
      "cell_type": "code",
      "source": [
        "# pd.DataFrame(data.condition.unique(), columns=['Condition']).to_csv(\"dataset/condition.csv\")"
      ],
      "metadata": {
        "id": "fb8BYoJvdMHk"
      },
      "execution_count": null,
      "outputs": []
    },
    {
      "cell_type": "code",
      "source": [
        "data['drugName'].nunique()"
      ],
      "metadata": {
        "id": "w0B3phxjivSG"
      },
      "execution_count": null,
      "outputs": []
    },
    {
      "cell_type": "code",
      "source": [
        "X = data['clean_review'].values\n",
        "y = data['condition'].values"
      ],
      "metadata": {
        "id": "rPnwc7rFZdGb"
      },
      "execution_count": null,
      "outputs": []
    },
    {
      "cell_type": "code",
      "source": [
        "from sklearn.model_selection import train_test_split\n",
        "\n",
        "X_train, X_test, y_train, y_test = train_test_split(X, y, test_size=0.3, random_state=2022, stratify=y)"
      ],
      "metadata": {
        "id": "UZyV0G-X6s0l"
      },
      "execution_count": null,
      "outputs": []
    },
    {
      "cell_type": "code",
      "source": [
        "X_train"
      ],
      "metadata": {
        "colab": {
          "base_uri": "https://localhost:8080/"
        },
        "id": "B6x0UKCC7COY",
        "outputId": "9d359901-54cb-41ee-cab5-e0a8f9f1d8fc"
      },
      "execution_count": null,
      "outputs": [
        {
          "output_type": "execute_result",
          "data": {
            "text/plain": [
              "array(['agree rebecca far pregnancy hope continue pill month period mess ive week itll come week early couple day later moody its get well go switch birth control method relieved have problem',\n",
              "       'start adipex day ago im year oldtall weighlb accord bmi doctor visit breaking point obesity struggle past get goal weight decide adipex shot obesity run family hope stop cycle havent effect far occasional dry mouth drink water good great experience far increase energy suppress appetite want exercisemin day eat well hopefully result end month want goal weight losslb month wish luck',\n",
              "       'week contrave experience bad headache point take exedrine migraine couple hour dry mouth thats good thing hardly drink water drink lot notice craving go away sweet long go continue medication go call scale program free scale receive',\n",
              "       ...,\n",
              "       'advair help breathe line rate effect heartburn intolerable time find relieve discomfort dont appetite good thing maintain blood sugar level weight conjunction day inhaler feel well clear year',\n",
              "       'take alli augsuggest drlbs augweigh yesterday auglbslb go day help appetite honest diet exercise alli work highly suggest overweight',\n",
              "       'diagnose hla bspecific protein white blood cell sign autoimmune disease dr tell psoriatic arthritis give starter pack otezla take day stiffness joint pain leave phentermine topimirate weight loss didn rsquo t experience headache somewhat depressed energy run starter pack day notice mood well normal morning oh stiffness pain goin new starter pack try deal mood thing pain crazy sinus head cold day kinda chalk time year weather'],\n",
              "      dtype=object)"
            ]
          },
          "metadata": {},
          "execution_count": 53
        }
      ]
    },
    {
      "cell_type": "code",
      "source": [
        "vocab_size = 5000\n",
        "embedding_dim = 100\n",
        "max_length = 100\n",
        "trunc_type = 'post'\n",
        "padding_type = 'post'\n",
        "oov_tok = '<OOV>'"
      ],
      "metadata": {
        "id": "cA7ZZhkIK0G_"
      },
      "execution_count": null,
      "outputs": []
    },
    {
      "cell_type": "code",
      "source": [
        "print(\"Train size:\", len(X_train))\n",
        "print(\"Testing size:\", len(X_test))"
      ],
      "metadata": {
        "colab": {
          "base_uri": "https://localhost:8080/"
        },
        "id": "I7ktlv1wMFzC",
        "outputId": "6e538bc5-82eb-46b3-9a69-c323299d7867"
      },
      "execution_count": null,
      "outputs": [
        {
          "output_type": "stream",
          "name": "stdout",
          "text": [
            "Train size: 141344\n",
            "Testing size: 60577\n"
          ]
        }
      ]
    },
    {
      "cell_type": "code",
      "source": [
        "train_reviews = X_train.tolist()\n",
        "test_reviews = X_test.tolist()"
      ],
      "metadata": {
        "id": "0JNTZv1sMU6H"
      },
      "execution_count": null,
      "outputs": []
    },
    {
      "cell_type": "markdown",
      "source": [
        "## Transformasi Data Train"
      ],
      "metadata": {
        "id": "rVbvveNmMoeI"
      }
    },
    {
      "cell_type": "code",
      "source": [
        "import tensorflow as tf\n",
        "import numpy as np\n",
        "from tensorflow.keras.preprocessing.text import Tokenizer\n",
        "from tensorflow.keras.preprocessing.sequence import pad_sequences"
      ],
      "metadata": {
        "id": "zNP5gjNeMtw9"
      },
      "execution_count": null,
      "outputs": []
    },
    {
      "cell_type": "code",
      "source": [
        "tokenizer = Tokenizer(num_words = vocab_size, oov_token=oov_tok)\n",
        "tokenizer.fit_on_texts(train_reviews)\n",
        "word_index = tokenizer.word_index\n",
        "dict(list(word_index.items())[0:10])"
      ],
      "metadata": {
        "colab": {
          "base_uri": "https://localhost:8080/"
        },
        "id": "J92N_lFEMlJK",
        "outputId": "257c4129-8441-42ef-90ed-f21265833246"
      },
      "execution_count": null,
      "outputs": [
        {
          "output_type": "execute_result",
          "data": {
            "text/plain": [
              "{'<OOV>': 1,\n",
              " 'day': 2,\n",
              " 'effect': 10,\n",
              " 'feel': 5,\n",
              " 'month': 4,\n",
              " 'start': 9,\n",
              " 'take': 3,\n",
              " 'week': 8,\n",
              " 'work': 7,\n",
              " 'year': 6}"
            ]
          },
          "metadata": {},
          "execution_count": 58
        }
      ]
    },
    {
      "cell_type": "code",
      "source": [
        "train_sequences = tokenizer.texts_to_sequences(train_reviews)\n",
        "print(train_sequences[10])"
      ],
      "metadata": {
        "colab": {
          "base_uri": "https://localhost:8080/"
        },
        "id": "P1pdlor8MuKq",
        "outputId": "9f5541e2-4f10-4b9f-8437-f1697eacef6e"
      },
      "execution_count": null,
      "outputs": [
        {
          "output_type": "stream",
          "name": "stdout",
          "text": [
            "[16, 784, 28, 6, 4651, 2282, 1278, 24, 6, 128, 784, 35, 184, 909, 290, 99, 184, 660, 472, 844, 200, 146, 31, 54, 4, 2475, 895, 12, 21, 210, 3, 844, 99, 184, 10, 672, 4651, 1, 191, 660, 472, 485, 29, 239, 1633, 15, 23, 4, 1394, 742, 86, 415, 49, 172]\n"
          ]
        }
      ]
    },
    {
      "cell_type": "code",
      "source": [
        "train_padded = pad_sequences(train_sequences, maxlen=max_length, padding=padding_type, truncating=trunc_type)\n",
        "print(len(train_sequences[0]))\n",
        "print(len(train_padded[0]))\n",
        "\n",
        "print(len(train_sequences[1]))\n",
        "print(len(train_padded[1]))\n",
        "\n",
        "print(len(train_sequences[10]))\n",
        "print(len(train_padded[10]))"
      ],
      "metadata": {
        "colab": {
          "base_uri": "https://localhost:8080/"
        },
        "id": "MfZWMfqbuqiN",
        "outputId": "606c2e15-5088-4bcc-930e-7248626dbae0"
      },
      "execution_count": null,
      "outputs": [
        {
          "output_type": "stream",
          "name": "stdout",
          "text": [
            "31\n",
            "100\n",
            "61\n",
            "100\n",
            "54\n",
            "100\n"
          ]
        }
      ]
    },
    {
      "cell_type": "markdown",
      "source": [
        "Convert Tokenizer into JSON"
      ],
      "metadata": {
        "id": "QedJ5dDNwFkO"
      }
    },
    {
      "cell_type": "code",
      "source": [
        "# import io\n",
        "# import json\n",
        "\n",
        "# tokenizer_json = tokenizer.to_json()\n",
        "# with io.open('assets/tokenizer_with_counts_100.json', 'w', encoding='utf-8') as f:\n",
        "#     f.write(json.dumps(tokenizer_json, ensure_ascii=False))"
      ],
      "metadata": {
        "id": "Ji5fTvx6vCXT"
      },
      "execution_count": null,
      "outputs": []
    },
    {
      "cell_type": "markdown",
      "source": [
        "## Transformasi Data Test"
      ],
      "metadata": {
        "id": "041agaWRwXXl"
      }
    },
    {
      "cell_type": "code",
      "source": [
        "test_sequences = tokenizer.texts_to_sequences(test_reviews)\n",
        "test_padded = pad_sequences(test_sequences, maxlen=max_length, padding=padding_type, truncating=trunc_type)\n",
        "\n",
        "print(len(test_sequences))\n",
        "print(test_padded.shape)"
      ],
      "metadata": {
        "colab": {
          "base_uri": "https://localhost:8080/"
        },
        "id": "L_s0pGlJve5N",
        "outputId": "2580e159-c9ad-466e-8634-03038d1a50e3"
      },
      "execution_count": null,
      "outputs": [
        {
          "output_type": "stream",
          "name": "stdout",
          "text": [
            "60577\n",
            "(60577, 100)\n"
          ]
        }
      ]
    },
    {
      "cell_type": "markdown",
      "source": [
        "## Extract Label"
      ],
      "metadata": {
        "id": "VyRrLjKwwiFX"
      }
    },
    {
      "cell_type": "code",
      "source": [
        "from sklearn.preprocessing import LabelEncoder\n",
        "\n",
        "encoder = LabelEncoder()\n",
        "\n",
        "label_train = y_train\n",
        "\n",
        "enc_label_train = encoder.fit_transform(label_train)\n",
        "enc_label_train"
      ],
      "metadata": {
        "colab": {
          "base_uri": "https://localhost:8080/"
        },
        "id": "y1gTVzqpwaGY",
        "outputId": "3474c264-90d3-430e-fa90-bc5ccccb4c54"
      },
      "execution_count": null,
      "outputs": [
        {
          "output_type": "execute_result",
          "data": {
            "text/plain": [
              "array([ 33, 181, 120, ...,  41, 120, 149])"
            ]
          },
          "metadata": {},
          "execution_count": 63
        }
      ]
    },
    {
      "cell_type": "code",
      "source": [
        "label_test = y_test\n",
        "enc_label_test = encoder.transform(label_test)\n",
        "enc_label_test"
      ],
      "metadata": {
        "colab": {
          "base_uri": "https://localhost:8080/"
        },
        "id": "-J0mLxAiwrVX",
        "outputId": "0b3d95d5-defe-4ce8-a557-c7af879ed00b"
      },
      "execution_count": null,
      "outputs": [
        {
          "output_type": "execute_result",
          "data": {
            "text/plain": [
              "array([181,  16,  15, ...,  71,   6,   1])"
            ]
          },
          "metadata": {},
          "execution_count": 64
        }
      ]
    },
    {
      "cell_type": "code",
      "source": [
        "# np.save('assets/encoder_with_count_100.npy', encoder.classes_)"
      ],
      "metadata": {
        "id": "YrXZVdG0wwYG"
      },
      "execution_count": null,
      "outputs": []
    },
    {
      "cell_type": "code",
      "source": [
        "NUM_OUTPUTS = len(set(y_train))\n",
        "NUM_OUTPUTS"
      ],
      "metadata": {
        "colab": {
          "base_uri": "https://localhost:8080/"
        },
        "id": "5eOy_g_QxEOa",
        "outputId": "8da7ae8e-371a-496b-8e86-894c6a7cc6b7"
      },
      "execution_count": null,
      "outputs": [
        {
          "output_type": "execute_result",
          "data": {
            "text/plain": [
              "185"
            ]
          },
          "metadata": {},
          "execution_count": 67
        }
      ]
    },
    {
      "cell_type": "code",
      "source": [
        "model = tf.keras.Sequential([\n",
        "    tf.keras.layers.Embedding(vocab_size, embedding_dim),\n",
        "    tf.keras.layers.Bidirectional(tf.keras.layers.GRU(64, dropout = 0.1, recurrent_dropout = 0.5, return_sequences = True)),\n",
        "    tf.keras.layers.GRU(64, activation = 'relu', dropout = 0.1, recurrent_dropout = 0.5),\n",
        "    tf.keras.layers.Dense(128, activation='relu'),\n",
        "    tf.keras.layers.Dense(NUM_OUTPUTS, activation='softmax')\n",
        "])\n",
        "model.summary()"
      ],
      "metadata": {
        "colab": {
          "base_uri": "https://localhost:8080/"
        },
        "id": "demWNZJXxi_j",
        "outputId": "6a3b79f7-bc5d-45f2-9409-c7f9aee887b5"
      },
      "execution_count": null,
      "outputs": [
        {
          "output_type": "stream",
          "name": "stdout",
          "text": [
            "Model: \"sequential\"\n",
            "_________________________________________________________________\n",
            " Layer (type)                Output Shape              Param #   \n",
            "=================================================================\n",
            " embedding (Embedding)       (None, None, 100)         500000    \n",
            "                                                                 \n",
            " bidirectional (Bidirectiona  (None, None, 128)        63744     \n",
            " l)                                                              \n",
            "                                                                 \n",
            " gru_1 (GRU)                 (None, 64)                37248     \n",
            "                                                                 \n",
            " dense (Dense)               (None, 128)               8320      \n",
            "                                                                 \n",
            " dense_1 (Dense)             (None, 185)               23865     \n",
            "                                                                 \n",
            "=================================================================\n",
            "Total params: 633,177\n",
            "Trainable params: 633,177\n",
            "Non-trainable params: 0\n",
            "_________________________________________________________________\n"
          ]
        }
      ]
    },
    {
      "cell_type": "code",
      "source": [
        "model.compile(loss='sparse_categorical_crossentropy', optimizer='adam', metrics=['accuracy'])\n",
        "num_epochs = 30\n",
        "history = model.fit(train_padded,\n",
        "                    enc_label_train,\n",
        "                    epochs=num_epochs,\n",
        "                    validation_data=(test_padded, enc_label_test),\n",
        "                    verbose=1, \n",
        "                    batch_size=512)"
      ],
      "metadata": {
        "colab": {
          "base_uri": "https://localhost:8080/"
        },
        "id": "xgCrJ7FFy7jP",
        "outputId": "4d026fa0-64aa-46e1-af7d-51b6ace8af8e"
      },
      "execution_count": null,
      "outputs": [
        {
          "output_type": "stream",
          "name": "stdout",
          "text": [
            "Epoch 1/30\n",
            "277/277 [==============================] - 699s 2s/step - loss: 4.1195 - accuracy: 0.1882 - val_loss: 4.0438 - val_accuracy: 0.1904\n",
            "Epoch 2/30\n",
            "277/277 [==============================] - 678s 2s/step - loss: 3.7476 - accuracy: 0.2228 - val_loss: 3.1116 - val_accuracy: 0.3058\n",
            "Epoch 3/30\n",
            "277/277 [==============================] - 690s 2s/step - loss: 2.5253 - accuracy: 0.4095 - val_loss: 2.0290 - val_accuracy: 0.5205\n",
            "Epoch 4/30\n",
            "277/277 [==============================] - 695s 3s/step - loss: 1.7503 - accuracy: 0.5756 - val_loss: 1.6119 - val_accuracy: 0.5998\n",
            "Epoch 5/30\n",
            "277/277 [==============================] - 693s 3s/step - loss: 1.4629 - accuracy: 0.6308 - val_loss: 1.4263 - val_accuracy: 0.6411\n",
            "Epoch 6/30\n",
            "277/277 [==============================] - 686s 2s/step - loss: 1.3267 - accuracy: 0.6581 - val_loss: 1.3380 - val_accuracy: 0.6584\n",
            "Epoch 7/30\n",
            "277/277 [==============================] - 695s 3s/step - loss: 1.2413 - accuracy: 0.6752 - val_loss: 1.2956 - val_accuracy: 0.6640\n",
            "Epoch 8/30\n",
            "277/277 [==============================] - 691s 2s/step - loss: 1.1773 - accuracy: 0.6870 - val_loss: 1.2529 - val_accuracy: 0.6748\n",
            "Epoch 9/30\n",
            "277/277 [==============================] - 692s 2s/step - loss: 1.1269 - accuracy: 0.6970 - val_loss: 1.2193 - val_accuracy: 0.6815\n",
            "Epoch 10/30\n",
            "277/277 [==============================] - 701s 3s/step - loss: 1.0835 - accuracy: 0.7061 - val_loss: 1.1812 - val_accuracy: 0.6894\n",
            "Epoch 11/30\n",
            "277/277 [==============================] - 699s 3s/step - loss: 1.0424 - accuracy: 0.7147 - val_loss: 1.1717 - val_accuracy: 0.6924\n",
            "Epoch 12/30\n",
            "277/277 [==============================] - 698s 3s/step - loss: 1.0116 - accuracy: 0.7205 - val_loss: 1.1608 - val_accuracy: 0.6953\n",
            "Epoch 13/30\n",
            "277/277 [==============================] - 699s 3s/step - loss: 0.9803 - accuracy: 0.7277 - val_loss: 1.1475 - val_accuracy: 0.6971\n",
            "Epoch 14/30\n",
            "277/277 [==============================] - 699s 3s/step - loss: 0.9539 - accuracy: 0.7338 - val_loss: 1.1367 - val_accuracy: 0.7015\n",
            "Epoch 15/30\n",
            "277/277 [==============================] - 700s 3s/step - loss: 0.9266 - accuracy: 0.7393 - val_loss: 1.1348 - val_accuracy: 0.7025\n",
            "Epoch 16/30\n",
            "277/277 [==============================] - 700s 3s/step - loss: 0.9033 - accuracy: 0.7446 - val_loss: 1.1218 - val_accuracy: 0.7067\n",
            "Epoch 17/30\n",
            "277/277 [==============================] - 699s 3s/step - loss: 0.8816 - accuracy: 0.7488 - val_loss: 1.1100 - val_accuracy: 0.7119\n",
            "Epoch 18/30\n",
            "277/277 [==============================] - 681s 2s/step - loss: 0.8595 - accuracy: 0.7543 - val_loss: 1.1129 - val_accuracy: 0.7107\n",
            "Epoch 19/30\n",
            "277/277 [==============================] - 680s 2s/step - loss: 0.8413 - accuracy: 0.7589 - val_loss: 1.1083 - val_accuracy: 0.7135\n",
            "Epoch 20/30\n",
            "277/277 [==============================] - 688s 2s/step - loss: 0.8196 - accuracy: 0.7645 - val_loss: 1.1091 - val_accuracy: 0.7144\n",
            "Epoch 21/30\n",
            "277/277 [==============================] - 687s 2s/step - loss: 0.8017 - accuracy: 0.7683 - val_loss: 1.1085 - val_accuracy: 0.7175\n",
            "Epoch 22/30\n",
            "277/277 [==============================] - 699s 3s/step - loss: 0.7842 - accuracy: 0.7727 - val_loss: 1.1016 - val_accuracy: 0.7171\n",
            "Epoch 23/30\n",
            "277/277 [==============================] - 703s 3s/step - loss: 0.7640 - accuracy: 0.7793 - val_loss: 1.1018 - val_accuracy: 0.7216\n",
            "Epoch 24/30\n",
            "277/277 [==============================] - 681s 2s/step - loss: 0.7475 - accuracy: 0.7815 - val_loss: 1.0975 - val_accuracy: 0.7258\n",
            "Epoch 25/30\n",
            "277/277 [==============================] - 698s 3s/step - loss: 0.7295 - accuracy: 0.7868 - val_loss: 1.1094 - val_accuracy: 0.7219\n",
            "Epoch 26/30\n",
            "277/277 [==============================] - 695s 3s/step - loss: 0.7116 - accuracy: 0.7918 - val_loss: 1.1034 - val_accuracy: 0.7279\n",
            "Epoch 27/30\n",
            "277/277 [==============================] - 682s 2s/step - loss: 0.6978 - accuracy: 0.7940 - val_loss: 1.1061 - val_accuracy: 0.7324\n",
            "Epoch 28/30\n",
            "277/277 [==============================] - 694s 3s/step - loss: 0.6808 - accuracy: 0.8007 - val_loss: 1.1110 - val_accuracy: 0.7312\n",
            "Epoch 29/30\n",
            "277/277 [==============================] - 722s 3s/step - loss: 0.6666 - accuracy: 0.8034 - val_loss: 1.1158 - val_accuracy: 0.7324\n",
            "Epoch 30/30\n",
            "277/277 [==============================] - 686s 2s/step - loss: 0.6503 - accuracy: 0.8084 - val_loss: 1.1136 - val_accuracy: 0.7357\n"
          ]
        }
      ]
    },
    {
      "cell_type": "code",
      "source": [
        "model.save(\"model/GRU_dense_with_count_100.h5\")"
      ],
      "metadata": {
        "id": "QwIIiZ1IzIwd"
      },
      "execution_count": null,
      "outputs": []
    },
    {
      "cell_type": "code",
      "source": [
        ""
      ],
      "metadata": {
        "id": "cGLWGgp0zPiQ"
      },
      "execution_count": null,
      "outputs": []
    }
  ]
}